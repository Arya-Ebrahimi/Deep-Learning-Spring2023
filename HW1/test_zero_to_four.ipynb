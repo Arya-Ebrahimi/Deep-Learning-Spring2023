{
 "cells": [
  {
   "cell_type": "code",
   "execution_count": 1,
   "metadata": {},
   "outputs": [
    {
     "name": "stderr",
     "output_type": "stream",
     "text": [
      "2023-04-10 15:08:46.760159: I tensorflow/core/platform/cpu_feature_guard.cc:182] This TensorFlow binary is optimized to use available CPU instructions in performance-critical operations.\n",
      "To enable the following instructions: AVX2 FMA, in other operations, rebuild TensorFlow with the appropriate compiler flags.\n",
      "2023-04-10 15:08:47.663256: W tensorflow/compiler/tf2tensorrt/utils/py_utils.cc:38] TF-TRT Warning: Could not find TensorRT\n"
     ]
    }
   ],
   "source": [
    "from core.mlp import MLP\n",
    "from core.config import parse_config\n",
    "import tensorflow as tf\n",
    "import numpy as np\n",
    "from sklearn.metrics import accuracy_score"
   ]
  },
  {
   "cell_type": "code",
   "execution_count": 2,
   "metadata": {},
   "outputs": [
    {
     "name": "stderr",
     "output_type": "stream",
     "text": [
      "2023-04-10 15:08:49.488013: I tensorflow/compiler/xla/stream_executor/cuda/cuda_gpu_executor.cc:996] successful NUMA node read from SysFS had negative value (-1), but there must be at least one NUMA node, so returning NUMA node zero. See more at https://github.com/torvalds/linux/blob/v6.0/Documentation/ABI/testing/sysfs-bus-pci#L344-L355\n",
      "2023-04-10 15:08:49.527981: I tensorflow/compiler/xla/stream_executor/cuda/cuda_gpu_executor.cc:996] successful NUMA node read from SysFS had negative value (-1), but there must be at least one NUMA node, so returning NUMA node zero. See more at https://github.com/torvalds/linux/blob/v6.0/Documentation/ABI/testing/sysfs-bus-pci#L344-L355\n",
      "2023-04-10 15:08:49.528216: I tensorflow/compiler/xla/stream_executor/cuda/cuda_gpu_executor.cc:996] successful NUMA node read from SysFS had negative value (-1), but there must be at least one NUMA node, so returning NUMA node zero. See more at https://github.com/torvalds/linux/blob/v6.0/Documentation/ABI/testing/sysfs-bus-pci#L344-L355\n",
      "2023-04-10 15:08:49.538165: I tensorflow/compiler/xla/stream_executor/cuda/cuda_gpu_executor.cc:996] successful NUMA node read from SysFS had negative value (-1), but there must be at least one NUMA node, so returning NUMA node zero. See more at https://github.com/torvalds/linux/blob/v6.0/Documentation/ABI/testing/sysfs-bus-pci#L344-L355\n",
      "2023-04-10 15:08:49.538507: I tensorflow/compiler/xla/stream_executor/cuda/cuda_gpu_executor.cc:996] successful NUMA node read from SysFS had negative value (-1), but there must be at least one NUMA node, so returning NUMA node zero. See more at https://github.com/torvalds/linux/blob/v6.0/Documentation/ABI/testing/sysfs-bus-pci#L344-L355\n",
      "2023-04-10 15:08:49.538785: I tensorflow/compiler/xla/stream_executor/cuda/cuda_gpu_executor.cc:996] successful NUMA node read from SysFS had negative value (-1), but there must be at least one NUMA node, so returning NUMA node zero. See more at https://github.com/torvalds/linux/blob/v6.0/Documentation/ABI/testing/sysfs-bus-pci#L344-L355\n",
      "2023-04-10 15:08:50.190982: I tensorflow/compiler/xla/stream_executor/cuda/cuda_gpu_executor.cc:996] successful NUMA node read from SysFS had negative value (-1), but there must be at least one NUMA node, so returning NUMA node zero. See more at https://github.com/torvalds/linux/blob/v6.0/Documentation/ABI/testing/sysfs-bus-pci#L344-L355\n",
      "2023-04-10 15:08:50.191623: I tensorflow/compiler/xla/stream_executor/cuda/cuda_gpu_executor.cc:996] successful NUMA node read from SysFS had negative value (-1), but there must be at least one NUMA node, so returning NUMA node zero. See more at https://github.com/torvalds/linux/blob/v6.0/Documentation/ABI/testing/sysfs-bus-pci#L344-L355\n",
      "2023-04-10 15:08:50.192007: I tensorflow/compiler/xla/stream_executor/cuda/cuda_gpu_executor.cc:996] successful NUMA node read from SysFS had negative value (-1), but there must be at least one NUMA node, so returning NUMA node zero. See more at https://github.com/torvalds/linux/blob/v6.0/Documentation/ABI/testing/sysfs-bus-pci#L344-L355\n",
      "2023-04-10 15:08:50.192203: I tensorflow/core/common_runtime/gpu/gpu_device.cc:1635] Created device /job:localhost/replica:0/task:0/device:GPU:0 with 5291 MB memory:  -> device: 0, name: NVIDIA GeForce GTX 1060, pci bus id: 0000:01:00.0, compute capability: 6.1\n",
      "2023-04-10 15:08:51.127373: I tensorflow/core/common_runtime/executor.cc:1197] [/device:CPU:0] (DEBUG INFO) Executor start aborting (this does not indicate an error and you can ignore this message): INVALID_ARGUMENT: You must feed a value for placeholder tensor 'Placeholder/_0' with dtype float and shape [30596,784]\n",
      "\t [[{{node Placeholder/_0}}]]\n",
      "2023-04-10 15:08:51.127938: I tensorflow/core/common_runtime/executor.cc:1197] [/device:CPU:0] (DEBUG INFO) Executor start aborting (this does not indicate an error and you can ignore this message): INVALID_ARGUMENT: You must feed a value for placeholder tensor 'Placeholder/_0' with dtype float and shape [30596,784]\n",
      "\t [[{{node Placeholder/_0}}]]\n",
      "2023-04-10 15:08:52.952592: I tensorflow/compiler/xla/service/service.cc:169] XLA service 0x32d0cd00 initialized for platform CUDA (this does not guarantee that XLA will be used). Devices:\n",
      "2023-04-10 15:08:52.952639: I tensorflow/compiler/xla/service/service.cc:177]   StreamExecutor device (0): NVIDIA GeForce GTX 1060, Compute Capability 6.1\n",
      "2023-04-10 15:08:53.609718: I tensorflow/compiler/mlir/tensorflow/utils/dump_mlir_util.cc:269] disabling MLIR crash reproducer, set env var `MLIR_CRASH_REPRODUCER_DIRECTORY` to enable.\n",
      "2023-04-10 15:08:54.452442: I tensorflow/compiler/xla/stream_executor/cuda/cuda_dnn.cc:424] Loaded cuDNN version 8801\n",
      "2023-04-10 15:08:56.074547: I ./tensorflow/compiler/jit/device_compiler.h:180] Compiled cluster using XLA!  This line is logged at most once for the lifetime of the process.\n"
     ]
    },
    {
     "name": "stdout",
     "output_type": "stream",
     "text": [
      "WARNING:tensorflow:5 out of the last 5 calls to <function _BaseOptimizer._update_step_xla at 0x7fc26888d300> triggered tf.function retracing. Tracing is expensive and the excessive number of tracings could be due to (1) creating @tf.function repeatedly in a loop, (2) passing tensors with different shapes, (3) passing Python objects instead of tensors. For (1), please define your @tf.function outside of the loop. For (2), @tf.function has reduce_retracing=True option that can avoid unnecessary retracing. For (3), please refer to https://www.tensorflow.org/guide/function#controlling_retracing and https://www.tensorflow.org/api_docs/python/tf/function for  more details.\n",
      "WARNING:tensorflow:6 out of the last 6 calls to <function _BaseOptimizer._update_step_xla at 0x7fc26888d300> triggered tf.function retracing. Tracing is expensive and the excessive number of tracings could be due to (1) creating @tf.function repeatedly in a loop, (2) passing tensors with different shapes, (3) passing Python objects instead of tensors. For (1), please define your @tf.function outside of the loop. For (2), @tf.function has reduce_retracing=True option that can avoid unnecessary retracing. For (3), please refer to https://www.tensorflow.org/guide/function#controlling_retracing and https://www.tensorflow.org/api_docs/python/tf/function for  more details.\n",
      "step: 100, loss: 1.497965, accuracy: 0.968750\n",
      "step: 200, loss: 1.491397, accuracy: 0.976562\n",
      "step: 300, loss: 1.477321, accuracy: 0.992188\n",
      "step: 400, loss: 1.475946, accuracy: 0.996094\n",
      "step: 500, loss: 1.475319, accuracy: 0.996094\n",
      "step: 600, loss: 1.468858, accuracy: 1.000000\n",
      "step: 700, loss: 1.469486, accuracy: 0.996094\n",
      "step: 800, loss: 1.467577, accuracy: 1.000000\n",
      "step: 900, loss: 1.462905, accuracy: 1.000000\n",
      "step: 1000, loss: 1.462458, accuracy: 1.000000\n",
      "step: 1100, loss: 1.462985, accuracy: 1.000000\n",
      "step: 1200, loss: 1.465515, accuracy: 0.996094\n",
      "step: 1300, loss: 1.463197, accuracy: 1.000000\n",
      "step: 1400, loss: 1.462275, accuracy: 1.000000\n",
      "step: 1500, loss: 1.461495, accuracy: 1.000000\n",
      "step: 1600, loss: 1.461538, accuracy: 1.000000\n",
      "step: 1700, loss: 1.461413, accuracy: 1.000000\n",
      "step: 1800, loss: 1.461621, accuracy: 1.000000\n",
      "step: 1900, loss: 1.461371, accuracy: 1.000000\n",
      "step: 2000, loss: 1.461229, accuracy: 1.000000\n",
      "training completed\n",
      "Test accuracy: 0.993384\n"
     ]
    }
   ],
   "source": [
    "config = parse_config(config_name='config10_0to4')\n",
    "\n",
    "mlp = MLP(config=config, name='test_0to4', zero_to_four=True)\n",
    "mlp.train()"
   ]
  },
  {
   "cell_type": "code",
   "execution_count": 3,
   "metadata": {},
   "outputs": [],
   "source": [
    "y_pred = mlp.model(mlp.five_to_nine_x)\n",
    "y_test = mlp.five_to_nine_y"
   ]
  },
  {
   "cell_type": "code",
   "execution_count": 4,
   "metadata": {},
   "outputs": [],
   "source": [
    "y_pred = tf.argmax(y_pred, 1)"
   ]
  },
  {
   "cell_type": "code",
   "execution_count": 7,
   "metadata": {},
   "outputs": [
    {
     "name": "stdout",
     "output_type": "stream",
     "text": [
      "actual value was: 7, predicted: 3\n",
      "actual value was: 9, predicted: 4\n",
      "actual value was: 5, predicted: 4\n",
      "actual value was: 9, predicted: 4\n",
      "actual value was: 6, predicted: 0\n",
      "actual value was: 9, predicted: 4\n",
      "actual value was: 5, predicted: 3\n",
      "actual value was: 9, predicted: 4\n",
      "actual value was: 7, predicted: 3\n",
      "actual value was: 9, predicted: 4\n",
      "actual value was: 6, predicted: 2\n",
      "actual value was: 6, predicted: 4\n",
      "actual value was: 5, predicted: 4\n",
      "actual value was: 7, predicted: 3\n",
      "actual value was: 7, predicted: 3\n",
      "actual value was: 7, predicted: 2\n",
      "actual value was: 7, predicted: 3\n",
      "actual value was: 5, predicted: 3\n",
      "actual value was: 6, predicted: 0\n",
      "actual value was: 5, predicted: 4\n",
      "actual value was: 5, predicted: 3\n",
      "actual value was: 6, predicted: 0\n",
      "actual value was: 9, predicted: 4\n",
      "actual value was: 5, predicted: 0\n",
      "actual value was: 7, predicted: 3\n"
     ]
    }
   ],
   "source": [
    "\n",
    "for i in range(25):\n",
    "    print(f'actual value was: {mlp.five_to_nine_y[i]}, predicted: {y_pred[i]}')"
   ]
  },
  {
   "cell_type": "code",
   "execution_count": null,
   "metadata": {},
   "outputs": [],
   "source": []
  }
 ],
 "metadata": {
  "kernelspec": {
   "display_name": "DL",
   "language": "python",
   "name": "python3"
  },
  "language_info": {
   "codemirror_mode": {
    "name": "ipython",
    "version": 3
   },
   "file_extension": ".py",
   "mimetype": "text/x-python",
   "name": "python",
   "nbconvert_exporter": "python",
   "pygments_lexer": "ipython3",
   "version": "3.11.2"
  },
  "orig_nbformat": 4
 },
 "nbformat": 4,
 "nbformat_minor": 2
}
