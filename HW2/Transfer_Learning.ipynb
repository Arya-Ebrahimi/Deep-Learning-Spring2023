{
  "cells": [
    {
      "cell_type": "code",
      "execution_count": null,
      "metadata": {
        "id": "YtrsBcp3LSS3"
      },
      "outputs": [],
      "source": [
        "import matplotlib.pyplot as plt\n",
        "import tensorflow as tf\n",
        "import tensorflow.keras.layers as layers\n",
        "from sklearn.ensemble import RandomForestClassifier"
      ]
    },
    {
      "cell_type": "code",
      "execution_count": null,
      "metadata": {
        "colab": {
          "base_uri": "https://localhost:8080/"
        },
        "id": "meeGWoz4MVf-",
        "outputId": "0f5534e1-1757-42f7-d1b2-9991b7975e14"
      },
      "outputs": [
        {
          "output_type": "stream",
          "name": "stdout",
          "text": [
            "  % Total    % Received % Xferd  Average Speed   Time    Time     Time  Current\n",
            "                                 Dload  Upload   Total   Spent    Left  Speed\n",
            "100  786M  100  786M    0     0   236M      0  0:00:03  0:00:03 --:--:--  236M\n"
          ]
        }
      ],
      "source": [
        "!curl -O https://download.microsoft.com/download/3/E/1/3E1C3F21-ECDB-4869-8368-6DEBA77B919F/kagglecatsanddogs_5340.zip"
      ]
    },
    {
      "cell_type": "code",
      "execution_count": null,
      "metadata": {
        "id": "teW7gd731BKR",
        "colab": {
          "base_uri": "https://localhost:8080/"
        },
        "outputId": "5f9d87cb-5008-4f44-c602-0f5062653bd4"
      },
      "outputs": [
        {
          "output_type": "stream",
          "name": "stdout",
          "text": [
            "replace PetImages/Cat/0.jpg? [y]es, [n]o, [A]ll, [N]one, [r]ename: N\n"
          ]
        }
      ],
      "source": [
        "!unzip -q kagglecatsanddogs_5340.zip\n"
      ]
    },
    {
      "cell_type": "code",
      "execution_count": null,
      "metadata": {
        "colab": {
          "base_uri": "https://localhost:8080/"
        },
        "id": "_SKdBNYfx-Yu",
        "outputId": "eb420470-f2a1-4ef2-b74e-5fa2786f146a"
      },
      "outputs": [
        {
          "output_type": "stream",
          "name": "stdout",
          "text": [
            "Deleted 1590 images\n"
          ]
        }
      ],
      "source": [
        "import os\n",
        "\n",
        "num_skipped = 0\n",
        "for folder_name in (\"Cat\", \"Dog\"):\n",
        "    folder_path = os.path.join(\"PetImages\", folder_name)\n",
        "    for fname in os.listdir(folder_path):\n",
        "        fpath = os.path.join(folder_path, fname)\n",
        "        try:\n",
        "            fobj = open(fpath, \"rb\")\n",
        "            is_jfif = tf.compat.as_bytes(\"JFIF\") in fobj.peek(10)\n",
        "        finally:\n",
        "            fobj.close()\n",
        "\n",
        "        if not is_jfif:\n",
        "            num_skipped += 1\n",
        "            os.remove(fpath)\n",
        "\n",
        "print(\"Deleted %d images\" % num_skipped)"
      ]
    },
    {
      "cell_type": "code",
      "execution_count": null,
      "metadata": {
        "id": "1ng5bqkHLcYN"
      },
      "outputs": [],
      "source": [
        "log_dir = \"logs/\"\n",
        "BATCH_SIZE = 32\n",
        "BUFFER_SIZE = 1000\n",
        "images_shape = [224, 224, 3]\n",
        "images_size = (224, 224)\n",
        "input_size = (224, 224, 3)\n",
        "embedding_size = 64\n",
        "class_count = 2\n",
        "EPOCHS = 1\n",
        "data_dir = './PetImages'"
      ]
    },
    {
      "cell_type": "code",
      "execution_count": null,
      "metadata": {
        "id": "IUBK_yGYLeAy"
      },
      "outputs": [],
      "source": [
        "def load_data(val=0.5):\n",
        "    train_ds = tf.keras.preprocessing.image_dataset_from_directory(data_dir, validation_split=val,\n",
        "                                                                   subset=\"training\", seed=123,\n",
        "                                                                   image_size=images_size, batch_size=BATCH_SIZE)\n",
        "\n",
        "    val_ds = tf.keras.preprocessing.image_dataset_from_directory(data_dir, validation_split=val, \n",
        "                                                                 subset=\"validation\", seed=123,\n",
        "                                                                 image_size=images_size, batch_size=BATCH_SIZE)\n",
        "\n",
        "    return train_ds, val_ds"
      ]
    },
    {
      "cell_type": "code",
      "execution_count": null,
      "metadata": {
        "id": "P0MNKt57LjKt"
      },
      "outputs": [],
      "source": [
        "def load_model(name, freeze_percent):\n",
        "    if name=='vgg16':\n",
        "        mod = tf.keras.applications.VGG16\n",
        "        preprocess_input = tf.keras.applications.vgg16.preprocess_input\n",
        "\n",
        "    elif name=='resnet':\n",
        "        mod = tf.keras.applications.ResNet50\n",
        "        preprocess_input = tf.keras.applications.resnet50.preprocess_input\n",
        "    else:\n",
        "        mod = tf.keras.applications.DenseNet121\n",
        "        preprocess_input = tf.keras.applications.densenet.preprocess_input\n",
        "\n",
        "    base_model = mod(input_shape=images_shape, include_top=False, weights='imagenet')\n",
        "\n",
        "\n",
        "    freeze_layers = int(freeze_percent * len(base_model.layers))\n",
        "\n",
        "\n",
        "    print(len(base_model.layers[:-freeze_layers]))\n",
        "\n",
        "    for layer in base_model.layers[:-freeze_layers]:\n",
        "        layer.trainable = False\n",
        "\n",
        "    if (freeze_percent == 0.0):\n",
        "        for layer in base_model.layers[:]:\n",
        "            layer.trainable = False\n",
        "\n",
        "    inputs = tf.keras.Input(shape=input_size)\n",
        "    model = preprocess_input(inputs)\n",
        "    model = base_model(model)\n",
        "    model = layers.Flatten()(model)\n",
        "    model = layers.Dense(256, activation='relu')(model)\n",
        "    model = layers.Dropout(0.5)(model)\n",
        "    feature = layers.Dense(64, activation=None, name='feature')(model)\n",
        "\n",
        "    after = tf.keras.layers.Activation('relu')(feature)\n",
        "\n",
        "    outputs = layers.Dense(1, name='classification')(after)\n",
        "    model = tf.keras.Model(inputs, outputs)\n",
        "\n",
        "    feature_model = tf.keras.Model(inputs, feature)\n",
        "\n",
        "    base_learning_rate = 0.0001\n",
        "    model.compile(optimizer=tf.keras.optimizers.Adam(learning_rate=base_learning_rate),\n",
        "                loss={'classification': tf.keras.losses.BinaryCrossentropy(from_logits=True)},\n",
        "                metrics=['accuracy'])\n",
        "\n",
        "    return model, feature_model"
      ]
    },
    {
      "cell_type": "code",
      "execution_count": null,
      "metadata": {
        "id": "A9-C2MxkLry0"
      },
      "outputs": [],
      "source": [
        "def train(name, freeze_percent):\n",
        "    train_ds, val_ds = load_data()\n",
        "    model, feature_model = load_model(name=name, freeze_percent=freeze_percent)\n",
        "    \n",
        "    history = model.fit(train_ds, epochs=EPOCHS, validation_data=val_ds)\n",
        "\n",
        "    return feature_model, history"
      ]
    },
    {
      "cell_type": "code",
      "source": [
        "import numpy as np\n",
        "from sklearn.metrics import accuracy_score\n",
        "\n",
        "\n",
        "def random_forest(f):\n",
        "    clf = RandomForestClassifier(warm_start=True, random_state=0, n_estimators = 1, max_depth=10)\n",
        "\n",
        "    for image, label in train_ds_random_forest.take(-1):\n",
        "        features = f.predict(image, verbose=0)\n",
        "        clf.fit(features, label)\n",
        "        clf.n_estimators+=1\n",
        "    pred_=np.array([])\n",
        "    labels_=np.array([])\n",
        "\n",
        "    for image, label in val_ds_random_forest.take(-1):\n",
        "        features = f.predict(image, verbose=0)\n",
        "        pred = clf.predict(features)\n",
        "        pred_ = np.concatenate([pred_, pred])\n",
        "        labels_ = np.concatenate([labels_, label.numpy()])\n",
        "    \n",
        "    return accuracy_score(labels_, pred_)"
      ],
      "metadata": {
        "id": "wFbNtFxwN7Ot"
      },
      "execution_count": null,
      "outputs": []
    },
    {
      "cell_type": "code",
      "source": [
        "train_ds_random_forest, val_ds_random_forest = load_data(val=0.5)\n",
        "\n",
        "for m in ['vgg16', 'resnet', 'densenet']:\n",
        "    for freeze_percent in [0.1, 0.3, 0.5, 0.7, 1.0]:\n",
        "        feature_model, history = train(m, freeze_percent)\n",
        "        if (freeze_percent == 0.3):\n",
        "            random_forest_acc = random_forest(feature_model)\n",
        "            print(random_forest_acc)"
      ],
      "metadata": {
        "colab": {
          "base_uri": "https://localhost:8080/"
        },
        "id": "-jV3iydBj7Hk",
        "outputId": "f6121955-4eeb-4f69-92c9-0ea5efc1477a"
      },
      "execution_count": null,
      "outputs": [
        {
          "output_type": "stream",
          "name": "stdout",
          "text": [
            "Found 23410 files belonging to 2 classes.\n",
            "Using 11705 files for training.\n",
            "Found 23410 files belonging to 2 classes.\n",
            "Using 11705 files for validation.\n",
            "Found 23410 files belonging to 2 classes.\n",
            "Using 11705 files for training.\n",
            "Found 23410 files belonging to 2 classes.\n",
            "Using 11705 files for validation.\n",
            "18\n",
            "366/366 [==============================] - 108s 274ms/step - loss: 0.5359 - accuracy: 0.9440 - val_loss: 0.1330 - val_accuracy: 0.9778\n",
            "Found 23410 files belonging to 2 classes.\n",
            "Using 11705 files for training.\n",
            "Found 23410 files belonging to 2 classes.\n",
            "Using 11705 files for validation.\n",
            "14\n",
            "366/366 [==============================] - 110s 292ms/step - loss: 0.2152 - accuracy: 0.9450 - val_loss: 0.0707 - val_accuracy: 0.9775\n",
            "0.9745407945322512\n",
            "Found 23410 files belonging to 2 classes.\n",
            "Using 11705 files for training.\n",
            "Found 23410 files belonging to 2 classes.\n",
            "Using 11705 files for validation.\n",
            "10\n",
            "366/366 [==============================] - 130s 341ms/step - loss: 0.2167 - accuracy: 0.9259 - val_loss: 0.0682 - val_accuracy: 0.9684\n",
            "Found 23410 files belonging to 2 classes.\n",
            "Using 11705 files for training.\n",
            "Found 23410 files belonging to 2 classes.\n",
            "Using 11705 files for validation.\n",
            "6\n",
            "366/366 [==============================] - 190s 501ms/step - loss: 0.4800 - accuracy: 0.7514 - val_loss: 0.2523 - val_accuracy: 0.8445\n",
            "Found 23410 files belonging to 2 classes.\n",
            "Using 11705 files for training.\n",
            "Found 23410 files belonging to 2 classes.\n",
            "Using 11705 files for validation.\n",
            "0\n",
            "366/366 [==============================] - 251s 659ms/step - loss: 0.3913 - accuracy: 0.8209 - val_loss: 0.1092 - val_accuracy: 0.9638\n",
            "Found 23410 files belonging to 2 classes.\n",
            "Using 11705 files for training.\n",
            "Found 23410 files belonging to 2 classes.\n",
            "Using 11705 files for validation.\n",
            "158\n",
            "366/366 [==============================] - 96s 236ms/step - loss: 0.1207 - accuracy: 0.9695 - val_loss: 0.0419 - val_accuracy: 0.9891\n",
            "Found 23410 files belonging to 2 classes.\n",
            "Using 11705 files for training.\n",
            "Found 23410 files belonging to 2 classes.\n",
            "Using 11705 files for validation.\n",
            "123\n",
            "366/366 [==============================] - 113s 269ms/step - loss: 0.1332 - accuracy: 0.9669 - val_loss: 0.0520 - val_accuracy: 0.9858\n",
            "0.9856471593336181\n",
            "Found 23410 files belonging to 2 classes.\n",
            "Using 11705 files for training.\n",
            "Found 23410 files belonging to 2 classes.\n",
            "Using 11705 files for validation.\n",
            "88\n",
            "366/366 [==============================] - 135s 311ms/step - loss: 0.1298 - accuracy: 0.9645 - val_loss: 0.1168 - val_accuracy: 0.9792\n",
            "Found 23410 files belonging to 2 classes.\n",
            "Using 11705 files for training.\n",
            "Found 23410 files belonging to 2 classes.\n",
            "Using 11705 files for validation.\n",
            "53\n",
            "366/366 [==============================] - 154s 340ms/step - loss: 0.1262 - accuracy: 0.9630 - val_loss: 0.0445 - val_accuracy: 0.9864\n",
            "Found 23410 files belonging to 2 classes.\n",
            "Using 11705 files for training.\n",
            "Found 23410 files belonging to 2 classes.\n",
            "Using 11705 files for validation.\n",
            "0\n",
            "366/366 [==============================] - 199s 436ms/step - loss: 0.1111 - accuracy: 0.9615 - val_loss: 0.0626 - val_accuracy: 0.9809\n",
            "Found 23410 files belonging to 2 classes.\n",
            "Using 11705 files for training.\n",
            "Found 23410 files belonging to 2 classes.\n",
            "Using 11705 files for validation.\n",
            "385\n",
            "366/366 [==============================] - 98s 222ms/step - loss: 0.0791 - accuracy: 0.9766 - val_loss: 0.0321 - val_accuracy: 0.9898\n",
            "Found 23410 files belonging to 2 classes.\n",
            "Using 11705 files for training.\n",
            "Found 23410 files belonging to 2 classes.\n",
            "Using 11705 files for validation.\n",
            "299\n",
            "366/366 [==============================] - 114s 238ms/step - loss: 0.0777 - accuracy: 0.9742 - val_loss: 0.0258 - val_accuracy: 0.9908\n",
            "0.9925672789406237\n",
            "Found 23410 files belonging to 2 classes.\n",
            "Using 11705 files for training.\n",
            "Found 23410 files belonging to 2 classes.\n",
            "Using 11705 files for validation.\n",
            "214\n",
            "366/366 [==============================] - 138s 271ms/step - loss: 0.0870 - accuracy: 0.9698 - val_loss: 0.0305 - val_accuracy: 0.9905\n",
            "Found 23410 files belonging to 2 classes.\n",
            "Using 11705 files for training.\n",
            "Found 23410 files belonging to 2 classes.\n",
            "Using 11705 files for validation.\n",
            "129\n",
            "366/366 [==============================] - 160s 298ms/step - loss: 0.0844 - accuracy: 0.9720 - val_loss: 0.0273 - val_accuracy: 0.9907\n",
            "Found 23410 files belonging to 2 classes.\n",
            "Using 11705 files for training.\n",
            "Found 23410 files belonging to 2 classes.\n",
            "Using 11705 files for validation.\n",
            "0\n",
            "366/366 [==============================] - 241s 468ms/step - loss: 0.0930 - accuracy: 0.9673 - val_loss: 0.0463 - val_accuracy: 0.9815\n"
          ]
        }
      ]
    },
    {
      "cell_type": "code",
      "source": [
        "for m in ['vgg16', 'resnet', 'densenet']:\n",
        "    f_, h_ = train(m, 0.0)"
      ],
      "metadata": {
        "colab": {
          "base_uri": "https://localhost:8080/"
        },
        "id": "Jjbvi6vE8_2w",
        "outputId": "b81a2ef1-7874-4f35-de24-d47aad95ee8c"
      },
      "execution_count": null,
      "outputs": [
        {
          "output_type": "stream",
          "name": "stdout",
          "text": [
            "Found 23410 files belonging to 2 classes.\n",
            "Using 11705 files for training.\n",
            "Found 23410 files belonging to 2 classes.\n",
            "Using 11705 files for validation.\n",
            "0\n",
            "366/366 [==============================] - 100s 269ms/step - loss: 0.5141 - accuracy: 0.9470 - val_loss: 0.1458 - val_accuracy: 0.9753\n",
            "Found 23410 files belonging to 2 classes.\n",
            "Using 11705 files for training.\n",
            "Found 23410 files belonging to 2 classes.\n",
            "Using 11705 files for validation.\n",
            "Downloading data from https://storage.googleapis.com/tensorflow/keras-applications/resnet/resnet50_weights_tf_dim_ordering_tf_kernels_notop.h5\n",
            "94765736/94765736 [==============================] - 0s 0us/step\n",
            "0\n",
            "366/366 [==============================] - 81s 206ms/step - loss: 0.1631 - accuracy: 0.9695 - val_loss: 0.0867 - val_accuracy: 0.9800\n",
            "Found 23410 files belonging to 2 classes.\n",
            "Using 11705 files for training.\n",
            "Found 23410 files belonging to 2 classes.\n",
            "Using 11705 files for validation.\n",
            "Downloading data from https://storage.googleapis.com/tensorflow/keras-applications/densenet/densenet121_weights_tf_dim_ordering_tf_kernels_notop.h5\n",
            "29084464/29084464 [==============================] - 0s 0us/step\n",
            "0\n",
            "366/366 [==============================] - 86s 209ms/step - loss: 0.0804 - accuracy: 0.9754 - val_loss: 0.0462 - val_accuracy: 0.9836\n"
          ]
        }
      ]
    },
    {
      "cell_type": "code",
      "source": [
        "histories = []\n",
        "EPOCHS = 5\n",
        "for m in ['vgg16', 'resnet', 'densenet']:\n",
        "    f_, h_ = train(m, 0.3)\n",
        "    histories.append(h_)"
      ],
      "metadata": {
        "colab": {
          "base_uri": "https://localhost:8080/"
        },
        "id": "14ELOKbODD7A",
        "outputId": "ffbdfcb5-3b7b-4ced-e8ed-9873f10a57b3"
      },
      "execution_count": null,
      "outputs": [
        {
          "output_type": "stream",
          "name": "stdout",
          "text": [
            "Found 23410 files belonging to 2 classes.\n",
            "Using 11705 files for training.\n",
            "Found 23410 files belonging to 2 classes.\n",
            "Using 11705 files for validation.\n",
            "14\n",
            "Epoch 1/5\n",
            "366/366 [==============================] - 109s 290ms/step - loss: 0.2200 - accuracy: 0.9478 - val_loss: 0.0761 - val_accuracy: 0.9665\n",
            "Epoch 2/5\n",
            "366/366 [==============================] - 105s 286ms/step - loss: 0.0553 - accuracy: 0.9805 - val_loss: 0.0805 - val_accuracy: 0.9780\n",
            "Epoch 3/5\n",
            "366/366 [==============================] - 105s 286ms/step - loss: 0.0354 - accuracy: 0.9862 - val_loss: 0.1147 - val_accuracy: 0.9758\n",
            "Epoch 4/5\n",
            "366/366 [==============================] - 140s 382ms/step - loss: 0.0349 - accuracy: 0.9891 - val_loss: 0.0895 - val_accuracy: 0.9651\n",
            "Epoch 5/5\n",
            "366/366 [==============================] - 105s 286ms/step - loss: 0.0366 - accuracy: 0.9874 - val_loss: 0.0999 - val_accuracy: 0.9815\n",
            "Found 23410 files belonging to 2 classes.\n",
            "Using 11705 files for training.\n",
            "Found 23410 files belonging to 2 classes.\n",
            "Using 11705 files for validation.\n",
            "123\n",
            "Epoch 1/5\n",
            "366/366 [==============================] - 112s 265ms/step - loss: 0.1092 - accuracy: 0.9665 - val_loss: 0.0613 - val_accuracy: 0.9828\n",
            "Epoch 2/5\n",
            "366/366 [==============================] - 95s 259ms/step - loss: 0.0254 - accuracy: 0.9908 - val_loss: 0.0732 - val_accuracy: 0.9832\n",
            "Epoch 3/5\n",
            "366/366 [==============================] - 101s 275ms/step - loss: 0.0148 - accuracy: 0.9960 - val_loss: 0.0705 - val_accuracy: 0.9821\n",
            "Epoch 4/5\n",
            "366/366 [==============================] - 95s 259ms/step - loss: 0.0084 - accuracy: 0.9978 - val_loss: 0.0952 - val_accuracy: 0.9863\n",
            "Epoch 5/5\n",
            "366/366 [==============================] - 95s 259ms/step - loss: 0.0137 - accuracy: 0.9956 - val_loss: 0.0665 - val_accuracy: 0.9857\n",
            "Found 23410 files belonging to 2 classes.\n",
            "Using 11705 files for training.\n",
            "Found 23410 files belonging to 2 classes.\n",
            "Using 11705 files for validation.\n",
            "299\n",
            "Epoch 1/5\n",
            "366/366 [==============================] - 113s 235ms/step - loss: 0.0851 - accuracy: 0.9691 - val_loss: 0.0282 - val_accuracy: 0.9897\n",
            "Epoch 2/5\n",
            "366/366 [==============================] - 84s 229ms/step - loss: 0.0247 - accuracy: 0.9913 - val_loss: 0.0276 - val_accuracy: 0.9915\n",
            "Epoch 3/5\n",
            "366/366 [==============================] - 89s 243ms/step - loss: 0.0138 - accuracy: 0.9956 - val_loss: 0.0698 - val_accuracy: 0.9874\n",
            "Epoch 4/5\n",
            "366/366 [==============================] - 84s 228ms/step - loss: 0.0152 - accuracy: 0.9944 - val_loss: 0.0398 - val_accuracy: 0.9921\n",
            "Epoch 5/5\n",
            "366/366 [==============================] - 84s 228ms/step - loss: 0.0057 - accuracy: 0.9979 - val_loss: 0.0361 - val_accuracy: 0.9927\n"
          ]
        }
      ]
    },
    {
      "cell_type": "code",
      "execution_count": null,
      "metadata": {
        "id": "d83LzzD1elAW",
        "colab": {
          "base_uri": "https://localhost:8080/",
          "height": 736
        },
        "outputId": "e3e8d0ab-56ea-4dd7-f66f-479b3b9559d5"
      },
      "outputs": [
        {
          "output_type": "execute_result",
          "data": {
            "text/plain": [
              "Text(0.5, 0, 'epoch')"
            ]
          },
          "metadata": {},
          "execution_count": 18
        },
        {
          "output_type": "display_data",
          "data": {
            "text/plain": [
              "<Figure size 800x800 with 2 Axes>"
            ],
            "image/png": "[encoded data removed]"
          },
          "metadata": {}
        }
      ],
      "source": [
        "acc=histories[2].history['accuracy']\n",
        "val_acc = histories[2].history['val_accuracy']\n",
        "\n",
        "loss = histories[2].history['loss']\n",
        "val_loss = histories[2].history['val_loss']\n",
        "\n",
        "plt.figure(figsize=(8, 8))\n",
        "plt.subplot(2, 1, 1)\n",
        "plt.plot(acc, label='Training Accuracy')\n",
        "plt.plot(val_acc, label='Validation Accuracy')\n",
        "plt.legend(loc='lower right')\n",
        "plt.ylabel('Accuracy')\n",
        "plt.ylim([min(plt.ylim()), 1])\n",
        "plt.title('Training and Validation Accuracy')\n",
        "\n",
        "plt.subplot(2, 1, 2)\n",
        "plt.plot(loss, label='Training Loss')\n",
        "plt.plot(val_loss, label='Validation Loss')\n",
        "# plt.plot(triplet_loss, label='Training Triplet Loss')\n",
        "# plt.plot(triplet_val_loss, label='Validation Triplet Loss')\n",
        "plt.legend(loc='lower left')\n",
        "plt.ylabel('Loss')\n",
        "plt.ylim([0, 1.0])\n",
        "plt.title('Training and Validation Loss')\n",
        "plt.xlabel('epoch')"
      ]
    },
    {
      "cell_type": "code",
      "source": [
        "!pip install tensorflow_decision_forests"
      ],
      "metadata": {
        "colab": {
          "base_uri": "https://localhost:8080/"
        },
        "id": "1_CeBOeki87V",
        "outputId": "6ffb8768-0e79-4fe3-f935-0e3abcc62061"
      },
      "execution_count": null,
      "outputs": [
        {
          "output_type": "stream",
          "name": "stdout",
          "text": [
            "Installing collected packages: wurlitzer, tensorflow_decision_forests\n",
            "Successfully installed tensorflow_decision_forests-1.3.0 wurlitzer-3.0.3\n"
          ]
        }
      ]
    },
    {
      "cell_type": "code",
      "execution_count": null,
      "metadata": {
        "id": "OvHXvLTGcN3i",
        "colab": {
          "base_uri": "https://localhost:8080/"
        },
        "outputId": "2b47f397-6d76-4c45-8560-8f9c70920e53"
      },
      "outputs": [
        {
          "output_type": "stream",
          "name": "stdout",
          "text": [
            "Found 23410 files belonging to 2 classes.\n",
            "Using 11705 files for training.\n",
            "Found 23410 files belonging to 2 classes.\n",
            "Using 11705 files for validation.\n"
          ]
        }
      ],
      "source": [
        "import tensorflow_decision_forests as tfdf\n",
        "train_ds_random_forest, val_ds_random_forest = load_data(val=0.5)\n"
      ]
    },
    {
      "cell_type": "code",
      "source": [
        "f_, h_ = train('vgg16', 0.3)"
      ],
      "metadata": {
        "colab": {
          "base_uri": "https://localhost:8080/"
        },
        "id": "3NZP0dXYjbpT",
        "outputId": "61ec1d20-c7f1-4449-9b8b-8c52c2652607"
      },
      "execution_count": null,
      "outputs": [
        {
          "output_type": "stream",
          "name": "stdout",
          "text": [
            "Found 23410 files belonging to 2 classes.\n",
            "Using 11705 files for training.\n",
            "Found 23410 files belonging to 2 classes.\n",
            "Using 11705 files for validation.\n",
            "14\n",
            "366/366 [==============================] - 114s 302ms/step - loss: 0.1911 - accuracy: 0.9448 - val_loss: 0.0663 - val_accuracy: 0.9739\n"
          ]
        }
      ]
    },
    {
      "cell_type": "code",
      "source": [
        "labels = np.array([])\n",
        "for i in range(10):\n",
        "    for image, label in val_ds_random_forest.take(1):\n",
        "        feature = f_(image)\n",
        "        if i == 0:\n",
        "            features = feature\n",
        "        else:\n",
        "            features = np.concatenate([features, feature])\n",
        "        labels = np.concatenate([labels, label.numpy()])"
      ],
      "metadata": {
        "id": "rr4oYO6Dq9-q"
      },
      "execution_count": null,
      "outputs": []
    },
    {
      "cell_type": "code",
      "source": [
        "from sklearn.decomposition import PCA\n",
        "pca = PCA(n_components=2)\n",
        "a = pca.fit_transform(features)"
      ],
      "metadata": {
        "id": "gOCRyZ_QluDx"
      },
      "execution_count": null,
      "outputs": []
    },
    {
      "cell_type": "code",
      "source": [
        "plt.scatter(a[:, 0], a[:, 1], c=labels)"
      ],
      "metadata": {
        "colab": {
          "base_uri": "https://localhost:8080/",
          "height": 448
        },
        "id": "qOIGdl5uo9-q",
        "outputId": "e687ae0b-9e43-4e61-e5ff-da1e30339625"
      },
      "execution_count": null,
      "outputs": [
        {
          "output_type": "execute_result",
          "data": {
            "text/plain": [
              "<matplotlib.collections.PathCollection at 0x7f0131ce6560>"
            ]
          },
          "metadata": {},
          "execution_count": 46
        },
        {
          "output_type": "display_data",
          "data": {
            "text/plain": [
              "<Figure size 640x480 with 1 Axes>"
            ],
            "image/png": "[encoded data removed]"
          },
          "metadata": {}
        }
      ]
    }
  ],
  "metadata": {
    "accelerator": "GPU",
    "colab": {
      "provenance": []
    },
    "gpuClass": "standard",
    "kernelspec": {
      "display_name": "Python 3",
      "name": "python3"
    },
    "language_info": {
      "name": "python"
    }
  },
  "nbformat": 4,
  "nbformat_minor": 0
}