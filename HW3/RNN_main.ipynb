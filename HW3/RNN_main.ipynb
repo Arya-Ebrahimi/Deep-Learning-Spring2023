{
  "nbformat": 4,
  "nbformat_minor": 0,
  "metadata": {
    "colab": {
      "provenance": [],
      "gpuType": "T4"
    },
    "kernelspec": {
      "name": "python3",
      "display_name": "Python 3"
    },
    "language_info": {
      "name": "python"
    },
    "accelerator": "GPU"
  },
  "cells": [
    {
      "cell_type": "code",
      "execution_count": 1,
      "metadata": {
        "id": "5xCUT17wsdzw",
        "colab": {
          "base_uri": "https://localhost:8080/"
        },
        "outputId": "1648c55e-d1fe-467f-aab4-2de0cc436a24"
      },
      "outputs": [
        {
          "output_type": "stream",
          "name": "stderr",
          "text": [
            "[nltk_data] Downloading package stopwords to /root/nltk_data...\n",
            "[nltk_data]   Unzipping corpora/stopwords.zip.\n",
            "[nltk_data] Downloading package wordnet to /root/nltk_data...\n"
          ]
        }
      ],
      "source": [
        "import pandas as pd\n",
        "import numpy as np\n",
        "from nltk.corpus import stopwords\n",
        "from sklearn.model_selection import train_test_split\n",
        "import tensorflow as tf\n",
        "from tensorflow.keras.preprocessing.text import Tokenizer\n",
        "from tensorflow.keras.preprocessing.sequence import pad_sequences\n",
        "from tensorflow.keras.models import Sequential\n",
        "from tensorflow.keras.layers import Embedding, LSTM, Dense, SpatialDropout1D, Dropout\n",
        "from keras.initializers import Constant\n",
        "import re\n",
        "import gzip\n",
        "import json\n",
        "from sklearn.model_selection import train_test_split\n",
        "\n",
        "import nltk\n",
        "nltk.download('stopwords')\n",
        "nltk.download('wordnet')\n",
        "english_stops = set(stopwords.words('english'))\n",
        "lemma = nltk.wordnet.WordNetLemmatizer()\n",
        "sno = nltk.stem.SnowballStemmer('english')"
      ]
    },
    {
      "cell_type": "code",
      "source": [
        "!wget --load-cookies /tmp/cookies.txt \"https://docs.google.com/uc?export=download&confirm=$(wget --quiet --save-cookies /tmp/cookies.txt --keep-session-cookies --no-check-certificate 'https://docs.google.com/uc?export=download&id=1Va8qhRHr_MCST7_dNxNtI4mtcoFyGYLI' -O- | sed -rn 's/.*confirm=([0-9A-Za-z_]+).*/\\1\\n/p')&id=1Va8qhRHr_MCST7_dNxNtI4mtcoFyGYLI\" -O Toys_and_Games_5.json.gz && rm -rf /tmp/cookies.txt"
      ],
      "metadata": {
        "colab": {
          "base_uri": "https://localhost:8080/"
        },
        "id": "ccnY8VJfwc3A",
        "outputId": "6c163972-e40c-4d3a-f27d-bcf58318c166"
      },
      "execution_count": 2,
      "outputs": [
        {
          "output_type": "stream",
          "name": "stdout",
          "text": [
            "--2023-06-06 13:53:03--  https://docs.google.com/uc?export=download&confirm=t&id=1Va8qhRHr_MCST7_dNxNtI4mtcoFyGYLI\n",
            "Resolving docs.google.com (docs.google.com)... 173.194.79.100, 173.194.79.138, 173.194.79.139, ...\n",
            "Connecting to docs.google.com (docs.google.com)|173.194.79.100|:443... connected.\n",
            "HTTP request sent, awaiting response... 303 See Other\n",
            "Location: https://doc-04-8g-docs.googleusercontent.com/docs/securesc/ha0ro937gcuc7l7deffksulhg5h7mbp1/ktngqbsjb57ggvpn3qv1fht2vod99eqb/1686059550000/04268100670184909597/*/1Va8qhRHr_MCST7_dNxNtI4mtcoFyGYLI?e=download&uuid=83da0512-3955-4c43-8dce-035f1039c61c [following]\n",
            "Warning: wildcards not supported in HTTP.\n",
            "--2023-06-06 13:53:03--  https://doc-04-8g-docs.googleusercontent.com/docs/securesc/ha0ro937gcuc7l7deffksulhg5h7mbp1/ktngqbsjb57ggvpn3qv1fht2vod99eqb/1686059550000/04268100670184909597/*/1Va8qhRHr_MCST7_dNxNtI4mtcoFyGYLI?e=download&uuid=83da0512-3955-4c43-8dce-035f1039c61c\n",
            "Resolving doc-04-8g-docs.googleusercontent.com (doc-04-8g-docs.googleusercontent.com)... 142.251.18.132, 2a00:1450:4013:c18::84\n",
            "Connecting to doc-04-8g-docs.googleusercontent.com (doc-04-8g-docs.googleusercontent.com)|142.251.18.132|:443... connected.\n",
            "HTTP request sent, awaiting response... 200 OK\n",
            "Length: 242925873 (232M) [application/gzip]\n",
            "Saving to: ‘Toys_and_Games_5.json.gz’\n",
            "\n",
            "Toys_and_Games_5.js 100%[===================>] 231.67M   126MB/s    in 1.8s    \n",
            "\n",
            "2023-06-06 13:53:05 (126 MB/s) - ‘Toys_and_Games_5.json.gz’ saved [242925873/242925873]\n",
            "\n"
          ]
        }
      ]
    },
    {
      "cell_type": "code",
      "execution_count": 3,
      "metadata": {
        "id": "JRh1r8OuP_Mh"
      },
      "outputs": [],
      "source": [
        "def read_data(n=1000):\n",
        "    fin = gzip.open('Toys_and_Games_5.json.gz', 'rt', encoding='UTF-8')\n",
        "\n",
        "    data = {'review':[], 'overall':[]}\n",
        "    for i in range(n):\n",
        "        try:\n",
        "            d = json.loads(fin.readline())\n",
        "            data['review'].append(d['reviewText'])\n",
        "            data['overall'].append(int(d['overall']))\n",
        "        except:\n",
        "            pass\n",
        "            \n",
        "    df = pd.DataFrame(data)\n",
        "\n",
        "    del data\n",
        "    del fin\n",
        "    del d\n",
        "\n",
        "    x_data = df['review']\n",
        "    y_data = df['overall']\n",
        "\n",
        "    x_data = x_data.replace({'<.*?>': ''}, regex=True)\n",
        "    x_data = x_data.replace({'[^0-9A-Za-z #+_]': ' '}, regex=True)\n",
        "    x_data = x_data.apply(lambda review: [w for w in review.split() if w not in english_stops])\n",
        "    x_data = x_data.apply(lambda review: [w.lower() for w in review])\n",
        "    # x_data = x_data.apply(lambda review: [lemma.lemmatize(w) for w in review])\n",
        "    x_data = x_data.apply(lambda review: [sno.stem(w) for w in review])\n",
        "\n",
        "\n",
        "    return x_data, y_data"
      ]
    },
    {
      "cell_type": "code",
      "execution_count": 4,
      "metadata": {
        "id": "4gD_Rk8gnTaH"
      },
      "outputs": [],
      "source": [
        "def get_max_length(x_train):\n",
        "    review_length = []\n",
        "    for review in x_train:\n",
        "        review_length.append(len(review))\n",
        "\n",
        "    return int(np.ceil(np.mean(review_length)))\n",
        "\n",
        "def one_hot(y):\n",
        "    ret = np.zeros((y.size, y.max()))\n",
        "\n",
        "    ret[np.arange(y.size), y-1] = 1.0\n",
        "    return ret"
      ]
    },
    {
      "cell_type": "code",
      "execution_count": 5,
      "metadata": {
        "id": "Gyv6dZUgQ4pb"
      },
      "outputs": [],
      "source": [
        "X, Y = read_data(2000000)"
      ]
    },
    {
      "cell_type": "code",
      "source": [
        "def get_135(x, y):\n",
        "    x_135 = []\n",
        "    y_135 = []\n",
        "\n",
        "    x_24 = []\n",
        "    y_24 = []\n",
        "    x_ = x.values.tolist()\n",
        "\n",
        "    for index, value in enumerate(Y.values.tolist()):\n",
        "        if value==2 or value==4:\n",
        "            x_24.append(x_[index])\n",
        "            y_24.append(value)\n",
        "        else:\n",
        "            x_135.append(x_[index])\n",
        "            y_135.append(value)\n",
        "    del x_\n",
        "    return x_135, x_24, y_135, y_24"
      ],
      "metadata": {
        "id": "FQ1tuewnRqIh"
      },
      "execution_count": 6,
      "outputs": []
    },
    {
      "cell_type": "code",
      "source": [
        "def get_data(x, y, mode='default'):\n",
        "    if mode=='default':\n",
        "        x_train, x_test, y_train, y_test = train_test_split(X, Y, test_size=0.05, shuffle=True)\n",
        "        y_train = one_hot(y_train.values)\n",
        "    else:\n",
        "        x_train, x_test, y_train, y_test = get_135(x, y)\n",
        "        y_train = one_hot(np.array(y_train))\n",
        "\n",
        "    return x_train, x_test, y_train, y_test"
      ],
      "metadata": {
        "id": "-nPFRTOWUaVr"
      },
      "execution_count": 7,
      "outputs": []
    },
    {
      "cell_type": "code",
      "source": [
        "x_train, x_test, y_train, y_test = get_data(X, Y, '135')"
      ],
      "metadata": {
        "id": "zS69UrvTUVvj"
      },
      "execution_count": 8,
      "outputs": []
    },
    {
      "cell_type": "code",
      "execution_count": 9,
      "metadata": {
        "id": "N7Mcb7fXyc9v"
      },
      "outputs": [],
      "source": [
        "tok = Tokenizer()\n",
        "tok.fit_on_texts(x_train)\n",
        "vocab_size = len(tok.word_index)+1\n",
        "encd_rev = tok.texts_to_sequences(x_train)\n",
        "encd_rev_test = tok.texts_to_sequences(x_test)\n",
        "max_len = get_max_length(x_train)\n",
        "embed_dim=200"
      ]
    },
    {
      "cell_type": "code",
      "execution_count": 10,
      "metadata": {
        "id": "2Z-rYOXYnann"
      },
      "outputs": [],
      "source": [
        "x_train_ = pad_sequences(encd_rev, maxlen=max_len, padding='post', truncating='post')\n",
        "x_test_ = pad_sequences(encd_rev_test, maxlen=max_len, padding='post', truncating='post')"
      ]
    },
    {
      "cell_type": "code",
      "execution_count": 11,
      "metadata": {
        "id": "YTWbn04lsrDX"
      },
      "outputs": [],
      "source": [
        "model = Sequential()\n",
        "model.add(Embedding(vocab_size, 200, input_length=max_len))\n",
        "# model.add(tf.keras.layers.GRU(128, dropout=0.2))\n",
        "# model.add(Dropout(0.1))\n",
        "# model.add(tf.keras.layers.LSTM(128))\n",
        "# model.add(LSTM(LSTM_OUT))\n",
        "# model.add(Dropout(0.2))\n",
        "\n",
        "model.add(tf.keras.layers.Bidirectional(LSTM(128, dropout=0.2)))\n",
        "# model.add(tf.keras.layers.Dense(128, activation='relu'))\n",
        "# model.add(Dropout(0.25))\n",
        "model.add(Dense(5, activation='softmax'))\n",
        "model.compile(optimizer=tf.keras.optimizers.RMSprop(learning_rate=0.001), loss='categorical_crossentropy', metrics=['accuracy'])"
      ]
    },
    {
      "cell_type": "code",
      "source": [
        "x_train_.shape"
      ],
      "metadata": {
        "colab": {
          "base_uri": "https://localhost:8080/"
        },
        "id": "K5JLyZBUglTx",
        "outputId": "c4475526-18e6-4f7c-9974-c6bfbcce63e6"
      },
      "execution_count": 12,
      "outputs": [
        {
          "output_type": "execute_result",
          "data": {
            "text/plain": [
              "(1497438, 22)"
            ]
          },
          "metadata": {},
          "execution_count": 12
        }
      ]
    },
    {
      "cell_type": "code",
      "execution_count": 13,
      "metadata": {
        "id": "XUD-78z7uMnc",
        "colab": {
          "base_uri": "https://localhost:8080/"
        },
        "outputId": "5a936cc8-c13c-4d9e-d60b-79a871191309"
      },
      "outputs": [
        {
          "output_type": "stream",
          "name": "stdout",
          "text": [
            "Epoch 1/5\n",
            "5265/5265 [==============================] - 108s 19ms/step - loss: 0.2677 - accuracy: 0.9036 - val_loss: 0.2241 - val_accuracy: 0.9193\n",
            "Epoch 2/5\n",
            "5265/5265 [==============================] - 62s 12ms/step - loss: 0.2369 - accuracy: 0.9144 - val_loss: 0.2175 - val_accuracy: 0.9207\n",
            "Epoch 3/5\n",
            "5265/5265 [==============================] - 61s 12ms/step - loss: 0.2257 - accuracy: 0.9186 - val_loss: 0.2097 - val_accuracy: 0.9249\n",
            "Epoch 4/5\n",
            "5265/5265 [==============================] - 61s 11ms/step - loss: 0.2179 - accuracy: 0.9215 - val_loss: 0.2064 - val_accuracy: 0.9259\n",
            "Epoch 5/5\n",
            "5265/5265 [==============================] - 61s 12ms/step - loss: 0.2114 - accuracy: 0.9240 - val_loss: 0.2051 - val_accuracy: 0.9273\n"
          ]
        }
      ],
      "source": [
        "h = model.fit(x_train_, y_train, batch_size=256, epochs=5, validation_split=0.1)\n"
      ]
    },
    {
      "cell_type": "code",
      "source": [
        "from matplotlib import pyplot as plt\n",
        "plt.plot(h.history['accuracy'])\n",
        "plt.plot(h.history['val_accuracy'])\n",
        "plt.title('Train with 1,3,5 accuracy')\n",
        "plt.ylabel('accuracy')\n",
        "plt.xlabel('epoch')\n",
        "plt.legend(['train', 'val'], loc='upper left')\n",
        "plt.show()"
      ],
      "metadata": {
        "colab": {
          "base_uri": "https://localhost:8080/",
          "height": 472
        },
        "id": "ZRV7TRrUn2iH",
        "outputId": "78755bb9-4237-40e2-cf2d-24051bf5aeab"
      },
      "execution_count": 14,
      "outputs": [
        {
          "output_type": "display_data",
          "data": {
            "text/plain": [
              "<Figure size 640x480 with 1 Axes>"
            ],
            "image/png": "[encoded data removed]"
          },
          "metadata": {}
        }
      ]
    },
    {
      "cell_type": "code",
      "source": [
        "y_pred = model.predict(x_test_, batch_size=256)"
      ],
      "metadata": {
        "colab": {
          "base_uri": "https://localhost:8080/"
        },
        "id": "57cXeh_DYCRm",
        "outputId": "ae517d10-76ef-401b-9e58-2fdc5399cde8"
      },
      "execution_count": 15,
      "outputs": [
        {
          "output_type": "stream",
          "name": "stdout",
          "text": [
            "1291/1291 [==============================] - 5s 3ms/step\n"
          ]
        }
      ]
    },
    {
      "cell_type": "code",
      "source": [
        "def print_135(x):\n",
        "    for data in x:\n",
        "        print(x_train[data])\n",
        "        print(f'True label: {y_test[data]}, Predicted label: {np.argmax(y_pred[data])+1}')"
      ],
      "metadata": {
        "id": "5wBvkHf-f7D1"
      },
      "execution_count": 30,
      "outputs": []
    },
    {
      "cell_type": "code",
      "source": [
        "print_135([0, 1, 4, 5, 15, 7460, 7476, 7491])"
      ],
      "metadata": {
        "colab": {
          "base_uri": "https://localhost:8080/"
        },
        "id": "Z2hu4TQDgLsd",
        "outputId": "c573a3a2-9832-4afe-c1a3-d07729814967"
      },
      "execution_count": 31,
      "outputs": [
        {
          "output_type": "stream",
          "name": "stdout",
          "text": [
            "['the', 'stain', 'glass', 'page', 'pretti', 'cool', 'and', 'nice', 'black', 'outlin', 'super', 'dark', 'thick', 'and', 'dragon', 'fight', 'wizard']\n",
            "True label: 4, Predicted label: 5\n",
            "['my', '11', 'love', 'i', 'know', 'i', 'realli', 'bought', 'i', 'want', 'see', 'pictur', 'i', 'lucki', 'enough', 'someon', 'i', 'could', 'justifi', 'buy', 'present', 'dragon', 'wizard', 'say', 'with', 'wonder', 'see', 'vellum', 'like', 'page', 'make', 'stain', 'glass', 'color', 'marker', 'anyth', 'els', 'realli', 'color', 'pencil', 'watercolor', 'mayb', 'light', 'shine', 'page', 'make', 'look', 'lumin', 'gorgeous', 'even', 'perfectionist', 'get', 'intimid', 'art', 'draw', 'tend', 'find', 'stain', 'glass', 'book', 'easi', 'get', 'result', 'happi', 'tend', 'enjoy', 'confid', 'build', 'experi']\n",
            "True label: 2, Predicted label: 3\n",
            "['i', 'love']\n",
            "True label: 2, Predicted label: 3\n",
            "['my', 'husband', 'love', 'it', 'he', 'is', 'in', 'to', 'dragon']\n",
            "True label: 4, Predicted label: 3\n",
            "['this', 'tini', 'book', 'onli', 'page', 'sticker', 'the', 'sticker', 'stick', 'well', 'first', 'time', 'place', 'it', 'howev', 'entertain', 'son', 'trip', 'sticker', 'make', '4', 'differ', 'robot', 'differ', 'color', 'i', 'would', 'suggest', 'younger', 'kid', 'son', '3']\n",
            "True label: 4, Predicted label: 5\n",
            "['i', 'rememb', 'mousetrap', 'labori', 'i', 'kid', 'i', 'sure', 'game', '20', 'year', 'ago', 'parent', 'warn', 'sit', 'hour', 'complic', 'board', 'setup', 'requir', 'read', 'skill', 'my', 'son', 'love', 'i', 'admit', 'i', 'tri', 'avoid', 'unless', 'i', 'absolut', 'finish', 'daili', 'duti', 'afford', 'commit', 'time', 'take', 'complet', 'game']\n",
            "True label: 2, Predicted label: 1\n",
            "['this', 'game', 'amaz', 'if', 'play', 'like', 'balderdash', 'tri', 'either', 'way', 'game', 'adapt', 'well', 'differ', 'group', 'peopl', 'differ', 'tast', 'strength', 'almost', 'nobodi', 'heard', 'introduc', 'i', 'get', 'frequent', 'request', 'bring', 'parti', 'board', 'game', 'night', 'access', 'often', 'hilari', 'if', 'stock', 'grab', 'game', 'hard', 'find']\n",
            "True label: 2, Predicted label: 3\n",
            "['great', 'gift', 'niec', 'love']\n",
            "True label: 2, Predicted label: 1\n"
          ]
        }
      ]
    },
    {
      "cell_type": "code",
      "source": [
        "!wget --load-cookies /tmp/cookies.txt \"https://docs.google.com/uc?export=download&confirm=$(wget --quiet --save-cookies /tmp/cookies.txt --keep-session-cookies --no-check-certificate 'https://docs.google.com/uc?export=download&id=1LXAJ-5z7qKjQzCsKi93xwF3oXqP-ZoPi' -O- | sed -rn 's/.*confirm=([0-9A-Za-z_]+).*/\\1\\n/p')&id=1LXAJ-5z7qKjQzCsKi93xwF3oXqP-ZoPi\" -O imdb.csv && rm -rf /tmp/cookies.txt"
      ],
      "metadata": {
        "colab": {
          "base_uri": "https://localhost:8080/"
        },
        "id": "RLLkln9baTM_",
        "outputId": "987b1b6b-56a8-48d8-8db8-72a145ff6b4a"
      },
      "execution_count": 18,
      "outputs": [
        {
          "output_type": "stream",
          "name": "stdout",
          "text": [
            "--2023-06-06 14:10:04--  https://docs.google.com/uc?export=download&confirm=&id=1LXAJ-5z7qKjQzCsKi93xwF3oXqP-ZoPi\n",
            "Resolving docs.google.com (docs.google.com)... 108.177.119.139, 108.177.119.113, 108.177.119.101, ...\n",
            "Connecting to docs.google.com (docs.google.com)|108.177.119.139|:443... connected.\n",
            "HTTP request sent, awaiting response... 303 See Other\n",
            "Location: https://doc-0o-2c-docs.googleusercontent.com/docs/securesc/ha0ro937gcuc7l7deffksulhg5h7mbp1/9ioka2v6qbo1of2bmgn4r7hu1kqr6ao8/1686060600000/10793604139831864846/*/1LXAJ-5z7qKjQzCsKi93xwF3oXqP-ZoPi?e=download&uuid=119b527b-bb5c-424a-9895-6434356ba9eb [following]\n",
            "Warning: wildcards not supported in HTTP.\n",
            "--2023-06-06 14:10:12--  https://doc-0o-2c-docs.googleusercontent.com/docs/securesc/ha0ro937gcuc7l7deffksulhg5h7mbp1/9ioka2v6qbo1of2bmgn4r7hu1kqr6ao8/1686060600000/10793604139831864846/*/1LXAJ-5z7qKjQzCsKi93xwF3oXqP-ZoPi?e=download&uuid=119b527b-bb5c-424a-9895-6434356ba9eb\n",
            "Resolving doc-0o-2c-docs.googleusercontent.com (doc-0o-2c-docs.googleusercontent.com)... 142.251.31.132, 2a00:1450:4013:c1a::84\n",
            "Connecting to doc-0o-2c-docs.googleusercontent.com (doc-0o-2c-docs.googleusercontent.com)|142.251.31.132|:443... connected.\n",
            "HTTP request sent, awaiting response... 200 OK\n",
            "Length: 66212309 (63M) [text/csv]\n",
            "Saving to: ‘imdb.csv’\n",
            "\n",
            "imdb.csv            100%[===================>]  63.14M  24.8MB/s    in 2.5s    \n",
            "\n",
            "2023-06-06 14:10:15 (24.8 MB/s) - ‘imdb.csv’ saved [66212309/66212309]\n",
            "\n"
          ]
        }
      ]
    },
    {
      "cell_type": "code",
      "source": [
        "def load_dataset():\n",
        "    df = pd.read_csv('imdb.csv')\n",
        "    x_data = df['review']\n",
        "    y_data = df['sentiment']\n",
        "\n",
        "    x_data = x_data.replace({'<.*?>': ''}, regex=True)  # remove html tag\n",
        "    x_data = x_data.replace({'[^A-Za-z]': ' '}, regex=True)  # remove non alphabet\n",
        "    x_data = x_data.apply(lambda review: [w for w in review.split() if w not in english_stops])  # remove stop words\n",
        "    x_data = x_data.apply(lambda review: [w.lower() for w in review])  # lower case\n",
        "\n",
        "    y_data = y_data.replace('positive', 1)\n",
        "    y_data = y_data.replace('negative', 0)\n",
        "\n",
        "    return x_data, y_data\n",
        "    "
      ],
      "metadata": {
        "id": "Z4y1e9bRaqjk"
      },
      "execution_count": 19,
      "outputs": []
    },
    {
      "cell_type": "code",
      "source": [
        "x_data, y_data = load_dataset()\n"
      ],
      "metadata": {
        "id": "Tx8zTr_haz7x"
      },
      "execution_count": 20,
      "outputs": []
    },
    {
      "cell_type": "code",
      "source": [
        "imdb_data_X = tok.texts_to_sequences(x_data)"
      ],
      "metadata": {
        "id": "x-SPrlkubPOH"
      },
      "execution_count": 21,
      "outputs": []
    },
    {
      "cell_type": "code",
      "source": [
        "imdb_data_X = pad_sequences(imdb_data_X, maxlen=max_len, padding='post', truncating='post')"
      ],
      "metadata": {
        "id": "jrJkBkX0bV5z"
      },
      "execution_count": 22,
      "outputs": []
    },
    {
      "cell_type": "code",
      "source": [
        "y_pred_imdb = model.predict(imdb_data_X, batch_size=256)"
      ],
      "metadata": {
        "colab": {
          "base_uri": "https://localhost:8080/"
        },
        "id": "Ow5Y8vK_be0j",
        "outputId": "4fe43603-07a8-4d65-8778-c3b5a563c211"
      },
      "execution_count": 23,
      "outputs": [
        {
          "output_type": "stream",
          "name": "stdout",
          "text": [
            "196/196 [==============================] - 1s 7ms/step\n"
          ]
        }
      ]
    },
    {
      "cell_type": "code",
      "source": [
        "y_data"
      ],
      "metadata": {
        "colab": {
          "base_uri": "https://localhost:8080/"
        },
        "id": "23zHf6Fvbj8s",
        "outputId": "abde008c-eb57-4798-cd59-6d9b60b425dc"
      },
      "execution_count": 24,
      "outputs": [
        {
          "output_type": "execute_result",
          "data": {
            "text/plain": [
              "0        1\n",
              "1        1\n",
              "2        1\n",
              "3        0\n",
              "4        1\n",
              "        ..\n",
              "49995    1\n",
              "49996    0\n",
              "49997    0\n",
              "49998    0\n",
              "49999    0\n",
              "Name: sentiment, Length: 50000, dtype: int64"
            ]
          },
          "metadata": {},
          "execution_count": 24
        }
      ]
    },
    {
      "cell_type": "code",
      "source": [
        "def print_imdb(x):\n",
        "    for data in x:\n",
        "        print(x_data[data])\n",
        "        print(f'Imdb label: {y_data.values[data]}, Predicted label: {np.argmax(y_pred_imdb[data])+1}')"
      ],
      "metadata": {
        "id": "HE7wp9rtd8iU"
      },
      "execution_count": 28,
      "outputs": []
    },
    {
      "cell_type": "code",
      "source": [
        "print_imdb([0, 49996, 49988, 49966, 49990])"
      ],
      "metadata": {
        "colab": {
          "base_uri": "https://localhost:8080/"
        },
        "id": "Ir3p9ubsedqi",
        "outputId": "fc7fd609-1e2f-4a2f-e1a5-54313f0fa6da"
      },
      "execution_count": 29,
      "outputs": [
        {
          "output_type": "stream",
          "name": "stdout",
          "text": [
            "['one', 'reviewers', 'mentioned', 'watching', 'oz', 'episode', 'hooked', 'they', 'right', 'exactly', 'happened', 'the', 'first', 'thing', 'struck', 'oz', 'brutality', 'unflinching', 'scenes', 'violence', 'set', 'right', 'word', 'go', 'trust', 'show', 'faint', 'hearted', 'timid', 'this', 'show', 'pulls', 'punches', 'regards', 'drugs', 'sex', 'violence', 'its', 'hardcore', 'classic', 'use', 'word', 'it', 'called', 'oz', 'nickname', 'given', 'oswald', 'maximum', 'security', 'state', 'penitentary', 'it', 'focuses', 'mainly', 'emerald', 'city', 'experimental', 'section', 'prison', 'cells', 'glass', 'fronts', 'face', 'inwards', 'privacy', 'high', 'agenda', 'em', 'city', 'home', 'many', 'aryans', 'muslims', 'gangstas', 'latinos', 'christians', 'italians', 'irish', 'scuffles', 'death', 'stares', 'dodgy', 'dealings', 'shady', 'agreements', 'never', 'far', 'away', 'i', 'would', 'say', 'main', 'appeal', 'show', 'due', 'fact', 'goes', 'shows', 'dare', 'forget', 'pretty', 'pictures', 'painted', 'mainstream', 'audiences', 'forget', 'charm', 'forget', 'romance', 'oz', 'mess', 'around', 'the', 'first', 'episode', 'i', 'ever', 'saw', 'struck', 'nasty', 'surreal', 'i', 'say', 'i', 'ready', 'i', 'watched', 'i', 'developed', 'taste', 'oz', 'got', 'accustomed', 'high', 'levels', 'graphic', 'violence', 'not', 'violence', 'injustice', 'crooked', 'guards', 'sold', 'nickel', 'inmates', 'kill', 'order', 'get', 'away', 'well', 'mannered', 'middle', 'class', 'inmates', 'turned', 'prison', 'bitches', 'due', 'lack', 'street', 'skills', 'prison', 'experience', 'watching', 'oz', 'may', 'become', 'comfortable', 'uncomfortable', 'viewing', 'thats', 'get', 'touch', 'darker', 'side']\n",
            "Imdb label: 1, Predicted label: 5\n",
            "['bad', 'plot', 'bad', 'dialogue', 'bad', 'acting', 'idiotic', 'directing', 'annoying', 'porn', 'groove', 'soundtrack', 'ran', 'continually', 'overacted', 'script', 'crappy', 'copy', 'vhs', 'cannot', 'redeemed', 'consuming', 'liquor', 'trust', 'i', 'stuck', 'turkey', 'end', 'it', 'pathetically', 'bad', 'i', 'figure', 'fourth', 'rate', 'spoof', 'springtime', 'hitler', 'the', 'girl', 'played', 'janis', 'joplin', 'faint', 'spark', 'interest', 'could', 'sing', 'better', 'original', 'if', 'want', 'watch', 'something', 'similar', 'thousand', 'times', 'better', 'watch', 'beyond', 'the', 'valley', 'the', 'dolls']\n",
            "Imdb label: 0, Predicted label: 1\n",
            "['when', 'i', 'first', 'tuned', 'morning', 'news', 'i', 'thought', 'wow', 'finally', 'entertainment', 'it', 'slightly', 'amusing', 'week', 'but', 'face', 'news', 'reporters', 'one', 'even', 'call', 'way', 'too', 'much', 'playing', 'around', 'time', 'at', 'first', 'i', 'thought', 'jillian', 'breathe', 'fresh', 'air', 'but', 'seriously', 'woman', 'got', 'least', 'bit', 'journalist', 'she', 'unprofessional', 'she', 'keeps', 'interrupting', 'steve', 'starts', 'informing', 'viewers', 'certain', 'news', 'report', 'it', 'really', 'become', 'annoying', 'point', 'i', 'watch', 'anymore', 'jillian', 'not', 'good', 'journalist', 'hell', 'celebrity', 'loves', 'celebrity', 'hence', 'instantly', 'transforms', 'celebrity', 'around', 'celebrities', 'supposed', 'interviewing', 'she', 'professional', 'quite', 'possibly', 'perceives', 'relationship', 'celebrities', 'important', 'rightfully', 'insatiable', 'journalist', 'i', 'say', 'also', 'disappointingly', 'show', 'entertainment', 'news', 'necessary', 'news', 'reports', 'world', 'government', 'us', 'something', 'benefit', 'serve', 'public', 'best', 'interest', 'they', 'focus', 'sensationalism', 'everything', 'talk', 'comes', 'commercial', 'product', 'on', 'hand', 'field', 'reporters', 'interestingly', 'tolerable', 'i', 'believe', 'good', 'day', 'la', 'young', 'teenagers', 'celebrities', 'definitely', 'people', 'actually', 'care', 'news', 'side', 'note', 'i', 'really', 'rather', 'watch', 'ktla', 'however', 'try', 'hard', 'entertaining', 'sometimes', 'they', 'still', 'bit', 'dull', 'though', 'oh', 'well', 'i', 'stick', 'nbc', 'today', 'abc', 'good', 'morning', 'america', 'also', 'okay', 'long', 'diane', 'sawyer', 'become', 'way', 'serious']\n",
            "Imdb label: 0, Predicted label: 1\n",
            "['firstly', 'title', 'relevance', 'whatsoever', 'movie', 'it', 'started', 'fine', 'good', 'development', 'got', 'annoying', 'tell', 'girlfriend', 'happened', 'even', 'attempt', 'tell', 'police', 'failed', 'added', 'annoyance', 'value', 'there', 'many', 'pregnant', 'pauses', 'movie', 'seemed', 'like', 'filler', 'anything', 'worthwhile', 'the', 'plot', 'never', 'revealed', 'crime', 'although', 'good', 'plot', 'would', 'allowed', 'disclosure', 'the', 'ending', 'nothing', 'short', 'hey', 'run', 'budget', 'let', 'stop', 'now', 'if', 'i', 'written', 'novel', 'ended', 'way', 'i', 'top', 'trash', 'trash', 'trash']\n",
            "Imdb label: 0, Predicted label: 3\n",
            "['lame', 'lame', 'lame', 'a', 'minute', 'cringe', 'fest', 'minutes', 'long', 'a', 'setting', 'ripe', 'atmosphere', 'possibility', 'abandoned', 'convent', 'squandered', 'stinker', 'script', 'filled', 'clunky', 'witless', 'dialogue', 'straining', 'oh', 'hard', 'hip', 'mostly', 'embarrassing', 'attempts', 'gonzo', 'horror', 'fall', 'flat', 'sample', 'movie', 'dialogue', 'demonstrating', 'artillery', 'fast', 'dolly', 'shot', 'closeup', 'barbeau', 'vigilante', 'character', 'questions', 'hyuck', 'hyuck', 'hyuck', 'bad', 'acting', 'idiotic', 'homophobic', 'jokes', 'judging', 'creature', 'effects', 'looks', 'like', 'director', 'watched', 'the', 'evil', 'dead', 'way', 'many', 'times', 'i', 'owe', 'friends', 'big', 'time', 'renting', 'turkey', 'subjecting', 'ninety', 'wasted', 'minutes', 'never', 'get', 'back', 'what', 'turd']\n",
            "Imdb label: 0, Predicted label: 1\n"
          ]
        }
      ]
    },
    {
      "cell_type": "code",
      "source": [
        "del model"
      ],
      "metadata": {
        "id": "doEpU3sIRBk5"
      },
      "execution_count": 27,
      "outputs": []
    },
    {
      "cell_type": "code",
      "source": [],
      "metadata": {
        "id": "vzZXgTBD-5gS"
      },
      "execution_count": 27,
      "outputs": []
    }
  ]
}