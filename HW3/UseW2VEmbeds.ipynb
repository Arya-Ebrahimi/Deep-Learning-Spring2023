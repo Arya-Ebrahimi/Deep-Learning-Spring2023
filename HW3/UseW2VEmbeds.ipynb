{
  "nbformat": 4,
  "nbformat_minor": 0,
  "metadata": {
    "colab": {
      "provenance": [],
      "gpuType": "T4"
    },
    "kernelspec": {
      "name": "python3",
      "display_name": "Python 3"
    },
    "language_info": {
      "name": "python"
    },
    "accelerator": "GPU"
  },
  "cells": [
    {
      "cell_type": "code",
      "execution_count": 1,
      "metadata": {
        "id": "5xCUT17wsdzw",
        "colab": {
          "base_uri": "https://localhost:8080/"
        },
        "outputId": "d5ed0f4a-40d5-4b16-8006-8fdd2bcfb57a"
      },
      "outputs": [
        {
          "output_type": "stream",
          "name": "stderr",
          "text": [
            "[nltk_data] Downloading package stopwords to /root/nltk_data...\n",
            "[nltk_data]   Unzipping corpora/stopwords.zip.\n",
            "[nltk_data] Downloading package wordnet to /root/nltk_data...\n"
          ]
        }
      ],
      "source": [
        "import pandas as pd\n",
        "import numpy as np\n",
        "from nltk.corpus import stopwords\n",
        "from sklearn.model_selection import train_test_split\n",
        "import tensorflow as tf\n",
        "from tensorflow.keras.preprocessing.text import Tokenizer\n",
        "from tensorflow.keras.preprocessing.sequence import pad_sequences\n",
        "from tensorflow.keras.models import Sequential\n",
        "from tensorflow.keras.layers import Embedding, LSTM, Dense, SpatialDropout1D, Dropout\n",
        "from keras.initializers import Constant\n",
        "import re\n",
        "import gzip\n",
        "import json\n",
        "from sklearn.model_selection import train_test_split\n",
        "\n",
        "import nltk\n",
        "nltk.download('stopwords')\n",
        "nltk.download('wordnet')\n",
        "english_stops = set(stopwords.words('english'))\n",
        "lemma = nltk.wordnet.WordNetLemmatizer()\n",
        "sno = nltk.stem.SnowballStemmer('english')"
      ]
    },
    {
      "cell_type": "code",
      "source": [
        "!wget --load-cookies /tmp/cookies.txt \"https://docs.google.com/uc?export=download&confirm=$(wget --quiet --save-cookies /tmp/cookies.txt --keep-session-cookies --no-check-certificate 'https://docs.google.com/uc?export=download&id=1Va8qhRHr_MCST7_dNxNtI4mtcoFyGYLI' -O- | sed -rn 's/.*confirm=([0-9A-Za-z_]+).*/\\1\\n/p')&id=1Va8qhRHr_MCST7_dNxNtI4mtcoFyGYLI\" -O Toys_and_Games_5.json.gz && rm -rf /tmp/cookies.txt"
      ],
      "metadata": {
        "colab": {
          "base_uri": "https://localhost:8080/"
        },
        "id": "ccnY8VJfwc3A",
        "outputId": "437230db-621b-44fe-bc70-80e680ab8e89"
      },
      "execution_count": 2,
      "outputs": [
        {
          "output_type": "stream",
          "name": "stdout",
          "text": [
            "--2023-06-06 07:15:10--  https://docs.google.com/uc?export=download&confirm=t&id=1Va8qhRHr_MCST7_dNxNtI4mtcoFyGYLI\n",
            "Resolving docs.google.com (docs.google.com)... 173.194.194.139, 173.194.194.100, 173.194.194.102, ...\n",
            "Connecting to docs.google.com (docs.google.com)|173.194.194.139|:443... connected.\n",
            "HTTP request sent, awaiting response... 303 See Other\n",
            "Location: https://doc-04-8g-docs.googleusercontent.com/docs/securesc/ha0ro937gcuc7l7deffksulhg5h7mbp1/898uho48e5d712guki3sddeh57v2v9sn/1686035700000/04268100670184909597/*/1Va8qhRHr_MCST7_dNxNtI4mtcoFyGYLI?e=download&uuid=6cd7329b-b392-41c3-8731-0264283a8cb8 [following]\n",
            "Warning: wildcards not supported in HTTP.\n",
            "--2023-06-06 07:15:10--  https://doc-04-8g-docs.googleusercontent.com/docs/securesc/ha0ro937gcuc7l7deffksulhg5h7mbp1/898uho48e5d712guki3sddeh57v2v9sn/1686035700000/04268100670184909597/*/1Va8qhRHr_MCST7_dNxNtI4mtcoFyGYLI?e=download&uuid=6cd7329b-b392-41c3-8731-0264283a8cb8\n",
            "Resolving doc-04-8g-docs.googleusercontent.com (doc-04-8g-docs.googleusercontent.com)... 108.177.120.132, 2607:f8b0:4001:c18::84\n",
            "Connecting to doc-04-8g-docs.googleusercontent.com (doc-04-8g-docs.googleusercontent.com)|108.177.120.132|:443... connected.\n",
            "HTTP request sent, awaiting response... 200 OK\n",
            "Length: 242925873 (232M) [application/gzip]\n",
            "Saving to: ‘Toys_and_Games_5.json.gz’\n",
            "\n",
            "Toys_and_Games_5.js 100%[===================>] 231.67M   153MB/s    in 1.5s    \n",
            "\n",
            "2023-06-06 07:15:12 (153 MB/s) - ‘Toys_and_Games_5.json.gz’ saved [242925873/242925873]\n",
            "\n"
          ]
        }
      ]
    },
    {
      "cell_type": "code",
      "execution_count": 3,
      "metadata": {
        "id": "JRh1r8OuP_Mh"
      },
      "outputs": [],
      "source": [
        "def read_data(n=1000):\n",
        "    fin = gzip.open('Toys_and_Games_5.json.gz', 'rt', encoding='UTF-8')\n",
        "\n",
        "    data = {'review':[], 'overall':[]}\n",
        "    for i in range(n):\n",
        "        try:\n",
        "            d = json.loads(fin.readline())\n",
        "            data['review'].append(d['reviewText'])\n",
        "            data['overall'].append(int(d['overall']))\n",
        "        except:\n",
        "            pass\n",
        "            \n",
        "    df = pd.DataFrame(data)\n",
        "\n",
        "    del data\n",
        "    del fin\n",
        "    del d\n",
        "\n",
        "    x_data = df['review']\n",
        "    y_data = df['overall']\n",
        "\n",
        "    x_data = x_data.replace({'<.*?>': ''}, regex=True)\n",
        "    x_data = x_data.replace({'[/(){}\\[\\]\\|@,;]': ''}, regex=True)\n",
        "    x_data = x_data.replace({'[^0-9A-Za-z #+_]': ' '}, regex=True)\n",
        "    x_data = x_data.apply(lambda review: [w for w in review.split() if w not in english_stops])\n",
        "    x_data = x_data.apply(lambda review: [w.lower() for w in review])\n",
        "    # x_data = x_data.apply(lambda review: [lemma.lemmatize(w) for w in review])\n",
        "    x_data = x_data.apply(lambda review: [sno.stem(w) for w in review])\n",
        "\n",
        "\n",
        "    return x_data, y_data"
      ]
    },
    {
      "cell_type": "code",
      "execution_count": 4,
      "metadata": {
        "id": "4gD_Rk8gnTaH"
      },
      "outputs": [],
      "source": [
        "def get_max_length(x_train):\n",
        "    review_length = []\n",
        "    for review in x_train:\n",
        "        review_length.append(len(review))\n",
        "\n",
        "    return int(np.ceil(np.mean(review_length)))\n",
        "\n",
        "def one_hot(y):\n",
        "    ret = np.zeros((y.size, y.max()))\n",
        "\n",
        "    ret[np.arange(y.size), y-1] = 1.0\n",
        "    return ret"
      ]
    },
    {
      "cell_type": "code",
      "execution_count": 5,
      "metadata": {
        "id": "Gyv6dZUgQ4pb"
      },
      "outputs": [],
      "source": [
        "X, Y = read_data(2000000)\n",
        "x_train, x_test, y_train, y_test = train_test_split(X, Y, test_size=0.05, shuffle=True)\n",
        "\n",
        "y = one_hot(y_train.values)\n",
        "y_test = one_hot(y_test.values)"
      ]
    },
    {
      "cell_type": "code",
      "execution_count": 6,
      "metadata": {
        "id": "N7Mcb7fXyc9v"
      },
      "outputs": [],
      "source": [
        "tok = Tokenizer()\n",
        "tok.fit_on_texts(x_train)\n",
        "vocab_size = len(tok.word_index)+1\n",
        "encd_rev = tok.texts_to_sequences(x_train)\n",
        "encd_rev_test = tok.texts_to_sequences(x_test)\n",
        "max_len = get_max_length(x_train)\n",
        "embed_dim=200"
      ]
    },
    {
      "cell_type": "code",
      "execution_count": 7,
      "metadata": {
        "id": "2Z-rYOXYnann"
      },
      "outputs": [],
      "source": [
        "x_train_ = pad_sequences(encd_rev, maxlen=max_len, padding='post', truncating='post')\n",
        "x_test_ = pad_sequences(encd_rev_test, maxlen=max_len, padding='post', truncating='post')"
      ]
    },
    {
      "cell_type": "code",
      "source": [
        "import gensim.downloader as api\n",
        "word2vec_model = api.load('glove-twitter-200')"
      ],
      "metadata": {
        "colab": {
          "base_uri": "https://localhost:8080/"
        },
        "id": "ilF8t21gK5UL",
        "outputId": "f0c2556a-cc5c-4fed-ed38-e4727970e916"
      },
      "execution_count": 11,
      "outputs": [
        {
          "output_type": "stream",
          "name": "stdout",
          "text": [
            "[=================================================-] 99.6% 755.4/758.5MB downloaded\n"
          ]
        }
      ]
    },
    {
      "cell_type": "code",
      "source": [
        "embed_matrix=np.zeros(shape=(vocab_size,embed_dim))\n",
        "\n",
        "for word,i in tok.word_index.items():\n",
        "\n",
        "    try:\n",
        "        embed_vector = word2vec_model.get_vector(word)\n",
        "    except:\n",
        "        embed_vector = word2vec_model.get_vector('unk')\n",
        "    \n",
        "    embed_matrix[i]=embed_vector"
      ],
      "metadata": {
        "id": "gSJsio0rKw6t"
      },
      "execution_count": 12,
      "outputs": []
    },
    {
      "cell_type": "code",
      "execution_count": 13,
      "metadata": {
        "id": "YTWbn04lsrDX"
      },
      "outputs": [],
      "source": [
        "model = Sequential()\n",
        "model.add(Embedding(vocab_size, 200, input_length=max_len, embeddings_initializer=Constant(embed_matrix)))\n",
        "# model.add(tf.keras.layers.GRU(128, dropout=0.2))\n",
        "# model.add(Dropout(0.1))\n",
        "# model.add(tf.keras.layers.LSTM(128))\n",
        "# model.add(LSTM(LSTM_OUT))\n",
        "# model.add(Dropout(0.2))\n",
        "\n",
        "model.add(tf.keras.layers.Bidirectional(tf.keras.layers.LSTM(128, dropout=0.2)))\n",
        "# model.add(tf.keras.layers.Dense(128, activation='relu'))\n",
        "# model.add(Dropout(0.25))\n",
        "model.add(Dense(5, activation='softmax'))\n",
        "model.compile(optimizer=tf.keras.optimizers.RMSprop(learning_rate=0.001), loss='categorical_crossentropy', metrics=['accuracy'])"
      ]
    },
    {
      "cell_type": "code",
      "source": [
        "x_train.shape"
      ],
      "metadata": {
        "colab": {
          "base_uri": "https://localhost:8080/"
        },
        "id": "K5JLyZBUglTx",
        "outputId": "d402946b-a1d9-4ba9-ed9a-b450b8b1a28f"
      },
      "execution_count": null,
      "outputs": [
        {
          "output_type": "execute_result",
          "data": {
            "text/plain": [
              "(1736406,)"
            ]
          },
          "metadata": {},
          "execution_count": 12
        }
      ]
    },
    {
      "cell_type": "code",
      "execution_count": 14,
      "metadata": {
        "id": "XUD-78z7uMnc",
        "colab": {
          "base_uri": "https://localhost:8080/"
        },
        "outputId": "64d20a45-8c4a-4cd5-fe4b-6701ce6efd16"
      },
      "outputs": [
        {
          "output_type": "stream",
          "name": "stdout",
          "text": [
            "Epoch 1/5\n",
            "6105/6105 [==============================] - 125s 19ms/step - loss: 0.6763 - accuracy: 0.7495 - val_loss: 0.6403 - val_accuracy: 0.7608\n",
            "Epoch 2/5\n",
            "6105/6105 [==============================] - 81s 13ms/step - loss: 0.6330 - accuracy: 0.7634 - val_loss: 0.6225 - val_accuracy: 0.7668\n",
            "Epoch 3/5\n",
            "6105/6105 [==============================] - 80s 13ms/step - loss: 0.6174 - accuracy: 0.7686 - val_loss: 0.6147 - val_accuracy: 0.7692\n",
            "Epoch 4/5\n",
            "6105/6105 [==============================] - 77s 13ms/step - loss: 0.6069 - accuracy: 0.7722 - val_loss: 0.6089 - val_accuracy: 0.7718\n",
            "Epoch 5/5\n",
            "6105/6105 [==============================] - 79s 13ms/step - loss: 0.5989 - accuracy: 0.7749 - val_loss: 0.6048 - val_accuracy: 0.7730\n"
          ]
        }
      ],
      "source": [
        "h = model.fit(x_train_, y, batch_size=256, epochs=5, validation_split=0.1)\n"
      ]
    },
    {
      "cell_type": "code",
      "source": [
        "from matplotlib import pyplot as plt\n",
        "plt.plot(h.history['accuracy'])\n",
        "plt.plot(h.history['val_accuracy'])\n",
        "plt.title('LSTM+W2V accuracy')\n",
        "plt.ylabel('accuracy')\n",
        "plt.xlabel('epoch')\n",
        "plt.legend(['train', 'val'], loc='upper left')\n",
        "plt.show()"
      ],
      "metadata": {
        "colab": {
          "base_uri": "https://localhost:8080/",
          "height": 472
        },
        "id": "0e1QoLXFncuH",
        "outputId": "85542553-80b3-44ab-bffd-8adb4eb00332"
      },
      "execution_count": 13,
      "outputs": [
        {
          "output_type": "display_data",
          "data": {
            "text/plain": [
              "<Figure size 640x480 with 1 Axes>"
            ],
            "image/png": "[encoded data removed]"
          },
          "metadata": {}
        }
      ]
    },
    {
      "cell_type": "code",
      "source": [
        "del model"
      ],
      "metadata": {
        "id": "doEpU3sIRBk5"
      },
      "execution_count": null,
      "outputs": []
    }
  ]
}