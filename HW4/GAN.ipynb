{
  "nbformat": 4,
  "nbformat_minor": 0,
  "metadata": {
    "colab": {
      "provenance": [],
      "gpuType": "T4"
    },
    "kernelspec": {
      "name": "python3",
      "display_name": "Python 3"
    },
    "language_info": {
      "name": "python"
    },
    "accelerator": "GPU"
  },
  "cells": [
    {
      "cell_type": "code",
      "execution_count": null,
      "metadata": {
        "id": "5H2OLnxEo0ac"
      },
      "outputs": [],
      "source": [
        "import matplotlib.pyplot as plt\n",
        "import tensorflow as tf\n",
        "import tensorflow.keras.layers as layers\n",
        "from tensorflow.keras.models import Model\n",
        "import gc\n",
        "import numpy as np"
      ]
    },
    {
      "cell_type": "code",
      "source": [
        "(x_train, y_train), (x_test, y_test) = tf.keras.datasets.cifar10.load_data()\n",
        "x_train = x_train/255.0\n",
        "x_test = x_test/255.0"
      ],
      "metadata": {
        "id": "d83uMFzCpAkG"
      },
      "execution_count": null,
      "outputs": []
    },
    {
      "cell_type": "code",
      "source": [
        "d_input = layers.Input(shape=(32, 32, 3))\n",
        "x = layers.Conv2D(32, (4, 4), strides=2, padding=\"same\")(d_input)\n",
        "x = layers.LeakyReLU(alpha=0.2)(x) \n",
        "x = layers.Conv2D(64, (4, 4), strides=2, padding=\"same\")(x)\n",
        "x = layers.LeakyReLU(alpha=0.2)(x)\n",
        "x = layers.Conv2D(64, (4, 4), strides=2, padding=\"same\")(x)\n",
        "x = layers.LeakyReLU(alpha=0.2)(x)\n",
        "features = layers.Flatten()(x)\n",
        "x = layers.Dropout(0.2)(features)\n",
        "x = layers.Dense(1, activation=\"sigmoid\")(x) \n",
        "\n",
        "discriminator = Model(d_input, x, name='discriminator')\n",
        "feature_model = Model(d_input, features, name='feature_model')\n",
        "discriminator.summary()"
      ],
      "metadata": {
        "colab": {
          "base_uri": "https://localhost:8080/"
        },
        "id": "vfQFeRegC-rv",
        "outputId": "97028652-fd73-4ffa-a168-4454d0ab9e58"
      },
      "execution_count": null,
      "outputs": [
        {
          "output_type": "stream",
          "name": "stdout",
          "text": [
            "Model: \"discriminator\"\n",
            "_________________________________________________________________\n",
            " Layer (type)                Output Shape              Param #   \n",
            "=================================================================\n",
            " input_9 (InputLayer)        [(None, 32, 32, 3)]       0         \n",
            "                                                                 \n",
            " conv2d_14 (Conv2D)          (None, 16, 16, 32)        1568      \n",
            "                                                                 \n",
            " leaky_re_lu_15 (LeakyReLU)  (None, 16, 16, 32)        0         \n",
            "                                                                 \n",
            " conv2d_15 (Conv2D)          (None, 8, 8, 64)          32832     \n",
            "                                                                 \n",
            " leaky_re_lu_16 (LeakyReLU)  (None, 8, 8, 64)          0         \n",
            "                                                                 \n",
            " conv2d_16 (Conv2D)          (None, 4, 4, 64)          65600     \n",
            "                                                                 \n",
            " leaky_re_lu_17 (LeakyReLU)  (None, 4, 4, 64)          0         \n",
            "                                                                 \n",
            " flatten_3 (Flatten)         (None, 1024)              0         \n",
            "                                                                 \n",
            " dropout_3 (Dropout)         (None, 1024)              0         \n",
            "                                                                 \n",
            " dense_5 (Dense)             (None, 1)                 1025      \n",
            "                                                                 \n",
            "=================================================================\n",
            "Total params: 101,025\n",
            "Trainable params: 101,025\n",
            "Non-trainable params: 0\n",
            "_________________________________________________________________\n"
          ]
        }
      ]
    },
    {
      "cell_type": "code",
      "source": [
        "generator = tf.keras.Sequential(\n",
        "    [\n",
        "        layers.Input(shape=(64,)), \n",
        "        layers.Dense(1024),\n",
        "        layers.Reshape((4, 4, 64)), \n",
        "        layers.Conv2DTranspose(64, (4, 4), strides=2, padding=\"same\"),\n",
        "        layers.LeakyReLU(alpha=0.2), \n",
        "        layers.Conv2DTranspose(64, (4, 4), strides=2, padding=\"same\"),\n",
        "        layers.LeakyReLU(alpha=0.2), \n",
        "        layers.Conv2DTranspose(32, (4, 4), strides=2, padding=\"same\"),\n",
        "        layers.LeakyReLU(alpha=0.2), \n",
        "        layers.Conv2D(3, kernel_size=5, padding=\"same\", activation=\"sigmoid\"),\n",
        "    ], \n",
        "    name='generator'\n",
        ")\n",
        "\n",
        "generator.summary()"
      ],
      "metadata": {
        "colab": {
          "base_uri": "https://localhost:8080/"
        },
        "id": "SczzX3BaqHS8",
        "outputId": "525a671d-2c00-44c2-bc19-7ca2a6d99db5"
      },
      "execution_count": null,
      "outputs": [
        {
          "output_type": "stream",
          "name": "stdout",
          "text": [
            "Model: \"generator\"\n",
            "_________________________________________________________________\n",
            " Layer (type)                Output Shape              Param #   \n",
            "=================================================================\n",
            " dense_6 (Dense)             (None, 1024)              66560     \n",
            "                                                                 \n",
            " reshape_2 (Reshape)         (None, 4, 4, 64)          0         \n",
            "                                                                 \n",
            " conv2d_transpose_6 (Conv2DT  (None, 8, 8, 64)         65600     \n",
            " ranspose)                                                       \n",
            "                                                                 \n",
            " leaky_re_lu_18 (LeakyReLU)  (None, 8, 8, 64)          0         \n",
            "                                                                 \n",
            " conv2d_transpose_7 (Conv2DT  (None, 16, 16, 64)       65600     \n",
            " ranspose)                                                       \n",
            "                                                                 \n",
            " leaky_re_lu_19 (LeakyReLU)  (None, 16, 16, 64)        0         \n",
            "                                                                 \n",
            " conv2d_transpose_8 (Conv2DT  (None, 32, 32, 32)       32800     \n",
            " ranspose)                                                       \n",
            "                                                                 \n",
            " leaky_re_lu_20 (LeakyReLU)  (None, 32, 32, 32)        0         \n",
            "                                                                 \n",
            " conv2d_17 (Conv2D)          (None, 32, 32, 3)         2403      \n",
            "                                                                 \n",
            "=================================================================\n",
            "Total params: 232,963\n",
            "Trainable params: 232,963\n",
            "Non-trainable params: 0\n",
            "_________________________________________________________________\n"
          ]
        }
      ]
    },
    {
      "cell_type": "code",
      "source": [
        "class GAN(tf.keras.Model):\n",
        "    def __init__(self, discriminator, generator, latent_dim):\n",
        "        super().__init__()\n",
        "        self.discriminator = discriminator\n",
        "        self.generator = generator\n",
        "        self.latent_dim = latent_dim\n",
        "\n",
        "    def compile(self, d_optimizer, g_optimizer, loss_fn):\n",
        "        super().compile()\n",
        "        self.d_optimizer = d_optimizer\n",
        "        self.g_optimizer = g_optimizer\n",
        "        self.loss_fn = loss_fn\n",
        "        self.d_loss_metric = tf.keras.metrics.Mean(name=\"d_loss\")\n",
        "        self.g_loss_metric = tf.keras.metrics.Mean(name=\"g_loss\")\n",
        "\n",
        "    @property\n",
        "    def metrics(self):\n",
        "        return [self.d_loss_metric, self.g_loss_metric]\n",
        "\n",
        "    def train_step(self, real_images):\n",
        "        # print(real_images.shape)\n",
        "        # Sample random points in the latent space\n",
        "        batch_size = tf.shape(real_images)[0]\n",
        "        random_latent_vectors = tf.random.normal(shape=(batch_size, self.latent_dim))\n",
        "        # Decode them to fake images\n",
        "        generated_images = self.generator(random_latent_vectors)\n",
        "        # Combine them with real images\n",
        "        combined_images = tf.concat([generated_images, real_images], axis=0)\n",
        "\n",
        "        # Assemble labels discriminating real from fake images\n",
        "        labels = tf.concat(\n",
        "            [tf.ones((batch_size, 1)), tf.zeros((batch_size, 1))], axis=0\n",
        "        )\n",
        "        # Add random noise to the labels - important trick!\n",
        "        labels += 0.05 * tf.random.uniform(tf.shape(labels))\n",
        "\n",
        "        # Train the discriminator\n",
        "        with tf.GradientTape() as tape:\n",
        "            predictions = self.discriminator(combined_images)\n",
        "            d_loss = self.loss_fn(labels, predictions)\n",
        "        grads = tape.gradient(d_loss, self.discriminator.trainable_weights)\n",
        "        self.d_optimizer.apply_gradients(\n",
        "            zip(grads, self.discriminator.trainable_weights)\n",
        "        )\n",
        "\n",
        "        # Sample random points in the latent space\n",
        "        random_latent_vectors = tf.random.normal(shape=(batch_size, self.latent_dim))\n",
        "\n",
        "        # Assemble labels that say \"all real images\"\n",
        "        misleading_labels = tf.zeros((batch_size, 1))\n",
        "\n",
        "        # Train the generator (note that we should *not* update the weights\n",
        "        # of the discriminator)!\n",
        "        with tf.GradientTape() as tape:\n",
        "            predictions = self.discriminator(self.generator(random_latent_vectors))\n",
        "            g_loss = self.loss_fn(misleading_labels, predictions)\n",
        "        grads = tape.gradient(g_loss, self.generator.trainable_weights)\n",
        "        self.g_optimizer.apply_gradients(zip(grads, self.generator.trainable_weights))\n",
        "\n",
        "        # Update metrics\n",
        "        self.d_loss_metric.update_state(d_loss)\n",
        "        self.g_loss_metric.update_state(g_loss)\n",
        "        return {\n",
        "            \"d_loss\": self.d_loss_metric.result(),\n",
        "            \"g_loss\": self.g_loss_metric.result(),\n",
        "        }"
      ],
      "metadata": {
        "id": "0jnVCeLCrjDc"
      },
      "execution_count": null,
      "outputs": []
    },
    {
      "cell_type": "code",
      "source": [
        "gan = GAN(discriminator=discriminator, generator=generator, latent_dim=64)"
      ],
      "metadata": {
        "id": "EFVxJXLssgDV"
      },
      "execution_count": null,
      "outputs": []
    },
    {
      "cell_type": "code",
      "source": [
        "gc.collect()"
      ],
      "metadata": {
        "colab": {
          "base_uri": "https://localhost:8080/"
        },
        "id": "xwbSjD1Ut8Xn",
        "outputId": "81ff62be-5e4e-4c5c-8214-5bed43aaf3e5"
      },
      "execution_count": null,
      "outputs": [
        {
          "output_type": "execute_result",
          "data": {
            "text/plain": [
              "2619"
            ]
          },
          "metadata": {},
          "execution_count": 37
        }
      ]
    },
    {
      "cell_type": "code",
      "source": [
        "gan.compile(\n",
        "    d_optimizer=tf.keras.optimizers.Adam(learning_rate=0.0001),\n",
        "    g_optimizer=tf.keras.optimizers.Adam(learning_rate=0.0001),\n",
        "    loss_fn=tf.keras.losses.BinaryCrossentropy(),\n",
        ")\n",
        "\n",
        "gan.fit(\n",
        "    x_train, \n",
        "    epochs=50, \n",
        "    batch_size=128, \n",
        "    shuffle=True,    \n",
        ")"
      ],
      "metadata": {
        "colab": {
          "base_uri": "https://localhost:8080/"
        },
        "id": "swUdcmpZtW9t",
        "outputId": "8bf9a50a-dd90-45cc-fa3d-f117626fcfb4"
      },
      "execution_count": null,
      "outputs": [
        {
          "output_type": "stream",
          "name": "stdout",
          "text": [
            "Epoch 1/50\n",
            "391/391 [==============================] - 12s 21ms/step - d_loss: 0.4474 - g_loss: 1.4408\n",
            "Epoch 2/50\n",
            "391/391 [==============================] - 8s 21ms/step - d_loss: 0.5339 - g_loss: 1.5761\n",
            "Epoch 3/50\n",
            "391/391 [==============================] - 8s 21ms/step - d_loss: 0.6087 - g_loss: 1.2479\n",
            "Epoch 4/50\n",
            "391/391 [==============================] - 8s 21ms/step - d_loss: 0.5853 - g_loss: 1.0896\n",
            "Epoch 5/50\n",
            "391/391 [==============================] - 8s 21ms/step - d_loss: 0.6159 - g_loss: 1.0442\n",
            "Epoch 6/50\n",
            "391/391 [==============================] - 8s 20ms/step - d_loss: 0.5906 - g_loss: 0.9788\n",
            "Epoch 7/50\n",
            "391/391 [==============================] - 8s 21ms/step - d_loss: 0.6079 - g_loss: 0.9497\n",
            "Epoch 8/50\n",
            "391/391 [==============================] - 8s 21ms/step - d_loss: 0.6373 - g_loss: 1.0899\n",
            "Epoch 9/50\n",
            "391/391 [==============================] - 8s 20ms/step - d_loss: 0.5720 - g_loss: 1.0872\n",
            "Epoch 10/50\n",
            "391/391 [==============================] - 8s 21ms/step - d_loss: 0.5590 - g_loss: 1.1135\n",
            "Epoch 11/50\n",
            "391/391 [==============================] - 8s 20ms/step - d_loss: 0.6448 - g_loss: 1.0172\n",
            "Epoch 12/50\n",
            "391/391 [==============================] - 8s 21ms/step - d_loss: 0.5820 - g_loss: 1.0386\n",
            "Epoch 13/50\n",
            "391/391 [==============================] - 8s 21ms/step - d_loss: 0.5913 - g_loss: 1.0222\n",
            "Epoch 14/50\n",
            "391/391 [==============================] - 8s 21ms/step - d_loss: 0.6364 - g_loss: 1.0248\n",
            "Epoch 15/50\n",
            "391/391 [==============================] - 8s 21ms/step - d_loss: 0.6535 - g_loss: 1.1709\n",
            "Epoch 16/50\n",
            "391/391 [==============================] - 8s 21ms/step - d_loss: 0.5405 - g_loss: 1.0642\n",
            "Epoch 17/50\n",
            "391/391 [==============================] - 8s 21ms/step - d_loss: 0.6427 - g_loss: 0.9757\n",
            "Epoch 18/50\n",
            "391/391 [==============================] - 8s 21ms/step - d_loss: 0.6362 - g_loss: 0.9275\n",
            "Epoch 19/50\n",
            "391/391 [==============================] - 8s 21ms/step - d_loss: 0.6685 - g_loss: 0.9232\n",
            "Epoch 20/50\n",
            "391/391 [==============================] - 8s 20ms/step - d_loss: 0.6576 - g_loss: 0.8821\n",
            "Epoch 21/50\n",
            "391/391 [==============================] - 8s 21ms/step - d_loss: 0.6621 - g_loss: 0.9111\n",
            "Epoch 22/50\n",
            "391/391 [==============================] - 8s 21ms/step - d_loss: 0.6490 - g_loss: 0.8459\n",
            "Epoch 23/50\n",
            "391/391 [==============================] - 8s 21ms/step - d_loss: 0.6406 - g_loss: 0.8998\n",
            "Epoch 24/50\n",
            "391/391 [==============================] - 8s 21ms/step - d_loss: 0.6366 - g_loss: 0.9143\n",
            "Epoch 25/50\n",
            "391/391 [==============================] - 8s 21ms/step - d_loss: 0.6800 - g_loss: 0.8589\n",
            "Epoch 26/50\n",
            "391/391 [==============================] - 8s 20ms/step - d_loss: 0.6651 - g_loss: 0.9791\n",
            "Epoch 27/50\n",
            "391/391 [==============================] - 8s 21ms/step - d_loss: 0.6645 - g_loss: 0.9509\n",
            "Epoch 28/50\n",
            "391/391 [==============================] - 8s 21ms/step - d_loss: 0.6485 - g_loss: 0.9351\n",
            "Epoch 29/50\n",
            "391/391 [==============================] - 8s 20ms/step - d_loss: 0.6413 - g_loss: 0.9316\n",
            "Epoch 30/50\n",
            "391/391 [==============================] - 8s 21ms/step - d_loss: 0.6235 - g_loss: 0.9621\n",
            "Epoch 31/50\n",
            "391/391 [==============================] - 8s 21ms/step - d_loss: 0.6631 - g_loss: 0.9660\n",
            "Epoch 32/50\n",
            "391/391 [==============================] - 8s 20ms/step - d_loss: 0.6330 - g_loss: 0.9844\n",
            "Epoch 33/50\n",
            "391/391 [==============================] - 8s 21ms/step - d_loss: 0.6876 - g_loss: 0.9221\n",
            "Epoch 34/50\n",
            "391/391 [==============================] - 8s 21ms/step - d_loss: 0.6501 - g_loss: 0.9369\n",
            "Epoch 35/50\n",
            "391/391 [==============================] - 8s 21ms/step - d_loss: 0.6799 - g_loss: 0.8715\n",
            "Epoch 36/50\n",
            "391/391 [==============================] - 8s 21ms/step - d_loss: 0.6849 - g_loss: 0.9229\n",
            "Epoch 37/50\n",
            "391/391 [==============================] - 8s 21ms/step - d_loss: 0.6663 - g_loss: 0.8654\n",
            "Epoch 38/50\n",
            "391/391 [==============================] - 8s 20ms/step - d_loss: 0.6547 - g_loss: 0.8623\n",
            "Epoch 39/50\n",
            "391/391 [==============================] - 8s 21ms/step - d_loss: 0.6739 - g_loss: 0.8194\n",
            "Epoch 40/50\n",
            "391/391 [==============================] - 8s 21ms/step - d_loss: 0.6844 - g_loss: 0.8600\n",
            "Epoch 41/50\n",
            "391/391 [==============================] - 8s 20ms/step - d_loss: 0.6770 - g_loss: 0.8617\n",
            "Epoch 42/50\n",
            "391/391 [==============================] - 8s 21ms/step - d_loss: 0.6867 - g_loss: 0.8632\n",
            "Epoch 43/50\n",
            "391/391 [==============================] - 8s 21ms/step - d_loss: 0.6559 - g_loss: 0.8769\n",
            "Epoch 44/50\n",
            "391/391 [==============================] - 8s 20ms/step - d_loss: 0.6652 - g_loss: 0.8492\n",
            "Epoch 45/50\n",
            "391/391 [==============================] - 8s 21ms/step - d_loss: 0.6751 - g_loss: 0.8431\n",
            "Epoch 46/50\n",
            "391/391 [==============================] - 8s 21ms/step - d_loss: 0.6681 - g_loss: 0.8627\n",
            "Epoch 47/50\n",
            "391/391 [==============================] - 8s 21ms/step - d_loss: 0.6643 - g_loss: 0.8302\n",
            "Epoch 48/50\n",
            "391/391 [==============================] - 8s 21ms/step - d_loss: 0.6797 - g_loss: 0.8444\n",
            "Epoch 49/50\n",
            "391/391 [==============================] - 8s 21ms/step - d_loss: 0.6918 - g_loss: 0.8961\n",
            "Epoch 50/50\n",
            "391/391 [==============================] - 8s 20ms/step - d_loss: 0.6607 - g_loss: 0.8934\n"
          ]
        },
        {
          "output_type": "execute_result",
          "data": {
            "text/plain": [
              "<keras.callbacks.History at 0x7f9da4242530>"
            ]
          },
          "metadata": {},
          "execution_count": 40
        }
      ]
    },
    {
      "cell_type": "code",
      "source": [
        "test = tf.random.normal(shape=(1, 64))"
      ],
      "metadata": {
        "id": "uggjfuzZv102"
      },
      "execution_count": null,
      "outputs": []
    },
    {
      "cell_type": "code",
      "source": [
        "fake = gan.generator(test)"
      ],
      "metadata": {
        "id": "Ikeyut08-6KW"
      },
      "execution_count": null,
      "outputs": []
    },
    {
      "cell_type": "code",
      "source": [
        "plt.imshow(fake[0])"
      ],
      "metadata": {
        "colab": {
          "base_uri": "https://localhost:8080/",
          "height": 447
        },
        "id": "1LhXiT6x_P6Q",
        "outputId": "ab1d765e-2de9-4c50-ca2d-8b3f223bc9ee"
      },
      "execution_count": null,
      "outputs": [
        {
          "output_type": "execute_result",
          "data": {
            "text/plain": [
              "<matplotlib.image.AxesImage at 0x7f9d9ef26b90>"
            ]
          },
          "metadata": {},
          "execution_count": 30
        },
        {
          "output_type": "display_data",
          "data": {
            "text/plain": [
              "<Figure size 640x480 with 1 Axes>"
            ],
            "image/png": "[encoded data removed]"
          },
          "metadata": {}
        }
      ]
    },
    {
      "cell_type": "code",
      "source": [
        "features_test = feature_model(x_test)"
      ],
      "metadata": {
        "id": "P4cCp0c5_WZI"
      },
      "execution_count": null,
      "outputs": []
    },
    {
      "cell_type": "code",
      "source": [
        "features_test.shape"
      ],
      "metadata": {
        "colab": {
          "base_uri": "https://localhost:8080/"
        },
        "id": "hV4JmpblGsH3",
        "outputId": "41fc8e38-4932-41f3-bbf6-d4b23f71f543"
      },
      "execution_count": null,
      "outputs": [
        {
          "output_type": "execute_result",
          "data": {
            "text/plain": [
              "TensorShape([10000, 1024])"
            ]
          },
          "metadata": {},
          "execution_count": 43
        }
      ]
    },
    {
      "cell_type": "code",
      "source": [
        "from sklearn.ensemble import RandomForestClassifier\n",
        "from sklearn.metrics import accuracy_score\n",
        "\n",
        "clf = RandomForestClassifier(max_depth=10, random_state=0)\n",
        "clf.fit(features_test, y_test)"
      ],
      "metadata": {
        "colab": {
          "base_uri": "https://localhost:8080/",
          "height": 129
        },
        "id": "RjLMsHN4Gvgn",
        "outputId": "d9820452-c535-494c-c506-de365439344a"
      },
      "execution_count": null,
      "outputs": [
        {
          "output_type": "stream",
          "name": "stderr",
          "text": [
            "<ipython-input-58-a3fcce347d31>:5: DataConversionWarning: A column-vector y was passed when a 1d array was expected. Please change the shape of y to (n_samples,), for example using ravel().\n",
            "  clf.fit(features_test, y_test)\n"
          ]
        },
        {
          "output_type": "execute_result",
          "data": {
            "text/plain": [
              "RandomForestClassifier(max_depth=10, random_state=0)"
            ],
            "text/html": [
              "<style>#sk-container-id-2 {color: black;background-color: white;}#sk-container-id-2 pre{padding: 0;}#sk-container-id-2 div.sk-toggleable {background-color: white;}#sk-container-id-2 label.sk-toggleable__label {cursor: pointer;display: block;width: 100%;margin-bottom: 0;padding: 0.3em;box-sizing: border-box;text-align: center;}#sk-container-id-2 label.sk-toggleable__label-arrow:before {content: \"▸\";float: left;margin-right: 0.25em;color: #696969;}#sk-container-id-2 label.sk-toggleable__label-arrow:hover:before {color: black;}#sk-container-id-2 div.sk-estimator:hover label.sk-toggleable__label-arrow:before {color: black;}#sk-container-id-2 div.sk-toggleable__content {max-height: 0;max-width: 0;overflow: hidden;text-align: left;background-color: #f0f8ff;}#sk-container-id-2 div.sk-toggleable__content pre {margin: 0.2em;color: black;border-radius: 0.25em;background-color: #f0f8ff;}#sk-container-id-2 input.sk-toggleable__control:checked~div.sk-toggleable__content {max-height: 200px;max-width: 100%;overflow: auto;}#sk-container-id-2 input.sk-toggleable__control:checked~label.sk-toggleable__label-arrow:before {content: \"▾\";}#sk-container-id-2 div.sk-estimator input.sk-toggleable__control:checked~label.sk-toggleable__label {background-color: #d4ebff;}#sk-container-id-2 div.sk-label input.sk-toggleable__control:checked~label.sk-toggleable__label {background-color: #d4ebff;}#sk-container-id-2 input.sk-hidden--visually {border: 0;clip: rect(1px 1px 1px 1px);clip: rect(1px, 1px, 1px, 1px);height: 1px;margin: -1px;overflow: hidden;padding: 0;position: absolute;width: 1px;}#sk-container-id-2 div.sk-estimator {font-family: monospace;background-color: #f0f8ff;border: 1px dotted black;border-radius: 0.25em;box-sizing: border-box;margin-bottom: 0.5em;}#sk-container-id-2 div.sk-estimator:hover {background-color: #d4ebff;}#sk-container-id-2 div.sk-parallel-item::after {content: \"\";width: 100%;border-bottom: 1px solid gray;flex-grow: 1;}#sk-container-id-2 div.sk-label:hover label.sk-toggleable__label {background-color: #d4ebff;}#sk-container-id-2 div.sk-serial::before {content: \"\";position: absolute;border-left: 1px solid gray;box-sizing: border-box;top: 0;bottom: 0;left: 50%;z-index: 0;}#sk-container-id-2 div.sk-serial {display: flex;flex-direction: column;align-items: center;background-color: white;padding-right: 0.2em;padding-left: 0.2em;position: relative;}#sk-container-id-2 div.sk-item {position: relative;z-index: 1;}#sk-container-id-2 div.sk-parallel {display: flex;align-items: stretch;justify-content: center;background-color: white;position: relative;}#sk-container-id-2 div.sk-item::before, #sk-container-id-2 div.sk-parallel-item::before {content: \"\";position: absolute;border-left: 1px solid gray;box-sizing: border-box;top: 0;bottom: 0;left: 50%;z-index: -1;}#sk-container-id-2 div.sk-parallel-item {display: flex;flex-direction: column;z-index: 1;position: relative;background-color: white;}#sk-container-id-2 div.sk-parallel-item:first-child::after {align-self: flex-end;width: 50%;}#sk-container-id-2 div.sk-parallel-item:last-child::after {align-self: flex-start;width: 50%;}#sk-container-id-2 div.sk-parallel-item:only-child::after {width: 0;}#sk-container-id-2 div.sk-dashed-wrapped {border: 1px dashed gray;margin: 0 0.4em 0.5em 0.4em;box-sizing: border-box;padding-bottom: 0.4em;background-color: white;}#sk-container-id-2 div.sk-label label {font-family: monospace;font-weight: bold;display: inline-block;line-height: 1.2em;}#sk-container-id-2 div.sk-label-container {text-align: center;}#sk-container-id-2 div.sk-container {/* jupyter's `normalize.less` sets `[hidden] { display: none; }` but bootstrap.min.css set `[hidden] { display: none !important; }` so we also need the `!important` here to be able to override the default hidden behavior on the sphinx rendered scikit-learn.org. See: https://github.com/scikit-learn/scikit-learn/issues/21755 */display: inline-block !important;position: relative;}#sk-container-id-2 div.sk-text-repr-fallback {display: none;}</style><div id=\"sk-container-id-2\" class=\"sk-top-container\"><div class=\"sk-text-repr-fallback\"><pre>RandomForestClassifier(max_depth=10, random_state=0)</pre><b>In a Jupyter environment, please rerun this cell to show the HTML representation or trust the notebook. <br />On GitHub, the HTML representation is unable to render, please try loading this page with nbviewer.org.</b></div><div class=\"sk-container\" hidden><div class=\"sk-item\"><div class=\"sk-estimator sk-toggleable\"><input class=\"sk-toggleable__control sk-hidden--visually\" id=\"sk-estimator-id-2\" type=\"checkbox\" checked><label for=\"sk-estimator-id-2\" class=\"sk-toggleable__label sk-toggleable__label-arrow\">RandomForestClassifier</label><div class=\"sk-toggleable__content\"><pre>RandomForestClassifier(max_depth=10, random_state=0)</pre></div></div></div></div></div>"
            ]
          },
          "metadata": {},
          "execution_count": 58
        }
      ]
    },
    {
      "cell_type": "code",
      "source": [
        "y_pred = clf.predict(features_test)"
      ],
      "metadata": {
        "id": "UfLRDeEHHVV8"
      },
      "execution_count": null,
      "outputs": []
    },
    {
      "cell_type": "code",
      "source": [
        "y_pred[7]"
      ],
      "metadata": {
        "colab": {
          "base_uri": "https://localhost:8080/"
        },
        "id": "-NeZ21NBIHO3",
        "outputId": "56f70e0c-8111-4396-c254-3107940c4f46"
      },
      "execution_count": null,
      "outputs": [
        {
          "output_type": "execute_result",
          "data": {
            "text/plain": [
              "6"
            ]
          },
          "metadata": {},
          "execution_count": 60
        }
      ]
    },
    {
      "cell_type": "code",
      "source": [
        "y_test[7]"
      ],
      "metadata": {
        "colab": {
          "base_uri": "https://localhost:8080/"
        },
        "id": "bkz-93TJI3jf",
        "outputId": "aa1613a9-ae6d-4a4c-c8f4-16b7909c09aa"
      },
      "execution_count": null,
      "outputs": [
        {
          "output_type": "execute_result",
          "data": {
            "text/plain": [
              "array([6], dtype=uint8)"
            ]
          },
          "metadata": {},
          "execution_count": 61
        }
      ]
    },
    {
      "cell_type": "code",
      "source": [],
      "metadata": {
        "id": "_u2RDaVkIi8y"
      },
      "execution_count": null,
      "outputs": []
    },
    {
      "cell_type": "code",
      "source": [
        "accuracy_score(y_test, y_pred)"
      ],
      "metadata": {
        "colab": {
          "base_uri": "https://localhost:8080/"
        },
        "id": "3EHRLgZHIkfN",
        "outputId": "6988d687-c919-4353-d0d9-99bcb9fa8e8c"
      },
      "execution_count": null,
      "outputs": [
        {
          "output_type": "execute_result",
          "data": {
            "text/plain": [
              "0.836"
            ]
          },
          "metadata": {},
          "execution_count": 62
        }
      ]
    }
  ]
}